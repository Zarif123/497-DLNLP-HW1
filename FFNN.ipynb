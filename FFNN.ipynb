{
  "cells": [
    {
      "cell_type": "markdown",
      "metadata": {
        "id": "fdwVctTdZGI-"
      },
      "source": [
        "### 1. Set-up"
      ]
    },
    {
      "cell_type": "markdown",
      "source": [
        "#### 1.1 Imports"
      ],
      "metadata": {
        "id": "83Gy5-2fxt5K"
      }
    },
    {
      "cell_type": "code",
      "execution_count": 1,
      "metadata": {
        "id": "HKVapGxaZGI_"
      },
      "outputs": [],
      "source": [
        "# Imports\n",
        "from torch.nn.utils.rnn import pad_sequence\n",
        "from torch.utils.data import Dataset\n",
        "from torch.utils.data import DataLoader\n",
        "from sklearn.metrics import confusion_matrix, ConfusionMatrixDisplay, accuracy_score\n",
        "import torch\n",
        "import torch.nn.functional as F\n",
        "import torch.nn as nn\n",
        "import torch.optim as optim\n",
        "import math\n",
        "import time\n",
        "import numpy as np\n",
        "import sys\n",
        "import argparse\n",
        "import os\n",
        "import matplotlib.pyplot as plt\n",
        "import pandas as pd\n",
        "import math"
      ]
    },
    {
      "cell_type": "markdown",
      "source": [
        "#### 1.2 CUDA"
      ],
      "metadata": {
        "id": "3yNwZTYKxvb2"
      }
    },
    {
      "cell_type": "code",
      "source": [
        "device = torch.device('cuda' if torch.cuda.is_available() else 'cpu')"
      ],
      "metadata": {
        "id": "VXD7OSs6xx57"
      },
      "execution_count": 2,
      "outputs": []
    },
    {
      "cell_type": "markdown",
      "metadata": {
        "id": "8pPI3JZAZGJA"
      },
      "source": [
        "### 2. Data Pre-Processing"
      ]
    },
    {
      "cell_type": "markdown",
      "metadata": {
        "id": "rdtpPAqyZGJA"
      },
      "source": [
        "#### 2.1 Helper Functions"
      ]
    },
    {
      "cell_type": "code",
      "execution_count": 3,
      "metadata": {
        "id": "7EZfC-ZVZGJA"
      },
      "outputs": [],
      "source": [
        "# Encoding and decoding\n",
        "def decode(vocab,corpus):\n",
        "    \n",
        "    text = ''\n",
        "    for i in range(len(corpus)):\n",
        "        wID = corpus[i]\n",
        "        text = text + vocab[wID] + ' '\n",
        "    return(text)\n",
        "\n",
        "def encode(words,text):\n",
        "    corpus = []\n",
        "    tokens = text.split(' ')\n",
        "    for t in tokens:\n",
        "        try:\n",
        "            wID = words[t][0]\n",
        "        except:\n",
        "            wID = words['<unk>'][0]\n",
        "        corpus.append(wID)\n",
        "    return(corpus)\n",
        "\n",
        "def read_encode(file_name,vocab,words,corpus,threshold):\n",
        "    \n",
        "    wID = len(vocab)\n",
        "    \n",
        "    if threshold > -1:\n",
        "        with open(file_name,'rt', encoding='utf8') as f:\n",
        "            for line in f:\n",
        "                line = line.replace('\\n','')\n",
        "                tokens = line.split(' ')\n",
        "                for t in tokens:\n",
        "                    try:\n",
        "                        elem = words[t]\n",
        "                    except:\n",
        "                        elem = [wID,0]\n",
        "                        vocab.append(t)\n",
        "                        wID = wID + 1\n",
        "                    elem[1] = elem[1] + 1\n",
        "                    words[t] = elem\n",
        "\n",
        "        temp = words\n",
        "        words = {}\n",
        "        vocab = []\n",
        "        wID = 0\n",
        "        words['<unk>'] = [wID,100]\n",
        "        vocab.append('<unk>')\n",
        "        for t in temp:\n",
        "            if temp[t][1] >= threshold:\n",
        "                vocab.append(t)\n",
        "                wID = wID + 1\n",
        "                words[t] = [wID,temp[t][1]]\n",
        "            \n",
        "                    \n",
        "    with open(file_name,'rt', encoding='utf8') as f:\n",
        "        for line in f:\n",
        "            line = line.replace('\\n','')\n",
        "            tokens = line.split(' ')\n",
        "            for t in tokens:\n",
        "                try:\n",
        "                    wID = words[t][0]\n",
        "                except:\n",
        "                    wID = words['<unk>'][0]\n",
        "                corpus.append(wID)\n",
        "                \n",
        "    return [vocab,words,corpus]\n",
        "\n",
        "def plot_data(x, y1, y2, xlabel, ylabel, title, color1, color2, label1, label2):\n",
        "    plt.plot(x, y1, color1, label=label1)\n",
        "    plt.plot(x, y2, color2, label=label2)\n",
        "    plt.xlabel(xlabel)\n",
        "    plt.ylabel(ylabel)\n",
        "    plt.title(title)\n",
        "    plt.legend()\n",
        "    plt.show()"
      ]
    },
    {
      "cell_type": "markdown",
      "source": [
        "#### 2.2 Create ngrams"
      ],
      "metadata": {
        "id": "LZK9fYthaOit"
      }
    },
    {
      "cell_type": "code",
      "source": [
        "def split_bios(data, words):\n",
        "  fake_val, real_val = words[\"[FAKE]\"][0], words[\"[REAL]\"][0]\n",
        "  fake_list = (data == fake_val)\n",
        "  real_list = (data == real_val)\n",
        "  target_indices = (fake_list + real_list).nonzero()\n",
        "  bios_list = []\n",
        "  start_i = 0\n",
        "\n",
        "  for end_i in target_indices:\n",
        "    bio = data[start_i:end_i+1]\n",
        "    bios_list.append(bio)\n",
        "\n",
        "    start_i = end_i + 1\n",
        "\n",
        "  return bios_list\n",
        "\n",
        "def clean_bios(bios, words):\n",
        "  for bio_i in range(len(bios)):\n",
        "    # Remove new lines and punctuation\n",
        "    new_line_idx = words[''][0]\n",
        "    comma_idx = words[','][0]\n",
        "    period_idx = words['.'][0]\n",
        "    colon_idx = words[':'][0]\n",
        "    semicolon_idx = words[';'][0]\n",
        "\n",
        "    punctuation_indices = [new_line_idx, comma_idx, period_idx, colon_idx, semicolon_idx]\n",
        "\n",
        "    bios[bio_i] = list(filter(lambda x: x not in punctuation_indices, bios[bio_i]))\n",
        "\n",
        "  return bios\n",
        "\n",
        "def create_ngrams(bios, words, ngram_size):\n",
        "  ngram_list = []\n",
        "\n",
        "  for bio_i, bio in enumerate(bios):\n",
        "    bio_len = len(bio)\n",
        "    i = 0\n",
        "    \n",
        "    while i < bio_len - ngram_size:\n",
        "      start, stop = i, i+ngram_size\n",
        "      context = torch.tensor(bio[start:stop]).detach().to(device)\n",
        "      label = torch.tensor(bio[stop]).detach().to(device)\n",
        "\n",
        "      ngram = [context, label]\n",
        "      ngram_list.append(ngram)\n",
        "\n",
        "      i += 1\n",
        "\n",
        "  return ngram_list\n"
      ],
      "metadata": {
        "id": "B_DBgDP-aODt"
      },
      "execution_count": 4,
      "outputs": []
    },
    {
      "cell_type": "markdown",
      "source": [
        "#### 2.3 Data Loader"
      ],
      "metadata": {
        "id": "36PY-v9OlQPj"
      }
    },
    {
      "cell_type": "code",
      "source": [
        "class NgramDataset(Dataset):\n",
        "    def __init__(self, ngrams_data):\n",
        "        self.ngrams_data_df = pd.DataFrame(ngrams_data, columns=(\"context\", \"label\"))\n",
        "        self.context = self.ngrams_data_df[\"context\"]\n",
        "        self.label = self.ngrams_data_df[\"label\"]\n",
        "\n",
        "    def __len__(self):\n",
        "        return len(self.label)\n",
        "\n",
        "    def __getitem__(self, idx):\n",
        "        return self.context[idx], self.label[idx]"
      ],
      "metadata": {
        "id": "x5Y6DAVSlTdz"
      },
      "execution_count": 5,
      "outputs": []
    },
    {
      "cell_type": "markdown",
      "metadata": {
        "id": "j_c28k49ZGJB"
      },
      "source": [
        "### 3. Model"
      ]
    },
    {
      "cell_type": "code",
      "execution_count": 6,
      "metadata": {
        "id": "9xj9GuPCZGJB"
      },
      "outputs": [],
      "source": [
        "# FeedForward Model\n",
        "class FFNN(nn.Module):\n",
        "    def __init__(self, vocab, words, d_model, d_hidden, dropout, ngram_size):\n",
        "        super().__init__() \n",
        "    \n",
        "        # Class parameters\n",
        "        self.vocab = vocab\n",
        "        self.words = words\n",
        "        self.vocab_size = len(self.vocab)\n",
        "        self.d_model = d_model\n",
        "        self.d_hidden = d_hidden\n",
        "        self.ngram_size = ngram_size\n",
        "        \n",
        "        # Dropout\n",
        "        self.dropout = nn.Dropout(p=dropout)\n",
        "\n",
        "        # Embedding Layer\n",
        "        self.input_embedding = nn.Embedding(self.vocab_size, self.d_model)\n",
        "\n",
        "        # Linear Layers\n",
        "        self.fc1 = nn.Linear(ngram_size * d_model, self.d_model)\n",
        "        self.output_embedding = nn.Linear(self.d_model, self.vocab_size)\n",
        "\n",
        "        # Nonlinear Layer\n",
        "        self.activation = nn.ReLU()\n",
        "\n",
        "        # Setting weights\n",
        "        self.init_weights()\n",
        "                \n",
        "    # Initialize weights for foward layer\n",
        "    def init_weights(self):\n",
        "        weight_range = 0.1\n",
        "        \n",
        "        self.input_embedding.weight.data.uniform_(-weight_range, weight_range)\n",
        "        self.fc1.weight.data.uniform_(-weight_range, weight_range)\n",
        "        self.fc1.bias.data.zero_()\n",
        "\n",
        "    # Forward\n",
        "    def forward(self, src):\n",
        "        # Embeddings are fed into the forward layer\n",
        "        embeds = self.input_embedding(src).view(-1, self.d_model * self.ngram_size)\n",
        "        x = self.dropout(self.activation(self.fc1(embeds)))\n",
        "        x = self.output_embedding(x).view(-1, self.vocab_size)\n",
        "        # x = F.log_softmax(x, dim=1)\n",
        "        return x"
      ]
    },
    {
      "cell_type": "markdown",
      "metadata": {
        "id": "jYKFbpx1ZGJC"
      },
      "source": [
        "### 4. Train"
      ]
    },
    {
      "cell_type": "markdown",
      "source": [
        "#### 4.1 Metrics"
      ],
      "metadata": {
        "id": "o_TvXMh9tfoK"
      }
    },
    {
      "cell_type": "code",
      "source": [],
      "metadata": {
        "id": "dxE2F9Kttiv6"
      },
      "execution_count": 6,
      "outputs": []
    },
    {
      "cell_type": "markdown",
      "source": [
        "#### 4.2 Train One Epoch"
      ],
      "metadata": {
        "id": "X-1H3ocWtjHE"
      }
    },
    {
      "cell_type": "code",
      "execution_count": 7,
      "metadata": {
        "id": "cSlmxKJbZGJC"
      },
      "outputs": [],
      "source": [
        "def train_one_epoch(model, optimizer, criterion, train_dataloader, valid_dataloader):\n",
        "\n",
        "  # Training Set\n",
        "  running_train_acc, running_train_loss = 0, 0\n",
        "  num_batches = len(train_dataloader)\n",
        "  \n",
        "  for batch_idx, (train_contexts, train_labels) in enumerate(train_dataloader):\n",
        "      model.zero_grad()\n",
        "\n",
        "      train_logits = model(train_contexts)\n",
        "      train_preds = torch.argmax(train_logits, dim=1)\n",
        "      train_loss = criterion(train_logits, train_labels)\n",
        "      train_acc = accuracy_score(np.array(train_labels.cpu()), np.array(train_preds.cpu()))\n",
        "\n",
        "      running_train_loss += train_loss.item()\n",
        "      running_train_acc += train_acc\n",
        "\n",
        "      # if batch_idx % 10000 == 0: \n",
        "      #   print(f\"Batch: {batch_idx+1}\")\n",
        "      #   print(f\"Loss: {running_train_loss / (batch_idx+1)}\")\n",
        "      #   print(f\"Accuracy: {running_train_acc / (batch_idx+1)}\\n\")\n",
        "\n",
        "      train_loss.backward()\n",
        "      optimizer.step()\n",
        "\n",
        "  train_av_acc = running_train_acc / num_batches\n",
        "  train_av_loss = running_train_loss / num_batches\n",
        "\n",
        "  # Validation Set\n",
        "  running_valid_acc, running_valid_loss = 0, 0\n",
        "  for batch_idx, (valid_contexts, valid_labels) in enumerate(valid_dataloader):\n",
        "      \n",
        "    valid_logits = model(valid_contexts)\n",
        "    valid_preds = torch.argmax(valid_logits, dim=1)\n",
        "    valid_loss = criterion(valid_logits, valid_labels)\n",
        "    valid_acc = accuracy_score(np.array(valid_labels.cpu()), np.array(valid_preds.cpu()))\n",
        "\n",
        "    running_valid_loss += valid_loss.item()\n",
        "    running_valid_acc += valid_acc\n",
        "\n",
        "  valid_av_acc = running_valid_acc / num_batches\n",
        "  valid_av_loss = running_valid_loss / num_batches\n",
        "\n",
        "  return train_av_acc, train_av_loss, valid_av_acc, valid_av_loss\n"
      ]
    },
    {
      "cell_type": "markdown",
      "source": [
        "#### 4.3 Train Multiple Epochs"
      ],
      "metadata": {
        "id": "xr5JFOvZtztU"
      }
    },
    {
      "cell_type": "code",
      "source": [
        "def train_loop(model, optimizer, criterion, train_dataloader, valid_dataloader, epochs):\n",
        "  train_accuracies = []\n",
        "  train_losses = []\n",
        "  valid_accuracies = []\n",
        "  valid_losses = []\n",
        "  epochs_list = list(range(epochs))\n",
        "\n",
        "  for i in epochs_list:\n",
        "    print(f\"Epoch: {i+1} /////////////////////////////////////\")\n",
        "    model.train(True)\n",
        "    train_av_acc, train_av_loss, valid_av_acc, valid_av_loss = train_one_epoch(model, optimizer, criterion, train_dataloader, valid_dataloader)\n",
        "    model.train(False)\n",
        "\n",
        "    train_perplexity = math.exp(train_av_loss)\n",
        "    valid_perplexity = math.exp(valid_av_loss)\n",
        "\n",
        "    print(f\"Train Accuracy: {train_av_acc}\")\n",
        "    print(f\"Train Loss: {train_av_loss}\")\n",
        "    print(f\"Train Perplexity: {train_perplexity}\\n\")\n",
        "\n",
        "    print(f\"Valid Accuracy: {valid_av_acc}\")\n",
        "    print(f\"Valid Loss: {valid_av_loss}\")\n",
        "    print(f\"Valid Perplexity: {valid_perplexity}\\n\")\n",
        "\n",
        "    train_accuracies.append(train_av_acc)\n",
        "    train_losses.append(train_av_loss)\n",
        "    valid_accuracies.append(valid_av_acc)\n",
        "    valid_losses.append(valid_av_loss)\n",
        "\n",
        "  print(train_accuracies)\n",
        "  print(train_losses)\n",
        "  print(valid_accuracies)\n",
        "  print(valid_losses)\n",
        "  print(epochs_list)\n",
        "  # Graph Accuracies and Loss\n",
        "  plot_data(x=epochs_list, y1=train_accuracies, y2=valid_accuracies, xlabel=\"Epochs\", ylabel=\"Accuracy\", title=\"Accuracy\", color1='r', color2='b', label1='Train', label2='Valid')\n",
        "  plot_data(x=epochs_list, y1=train_losses, y2=valid_losses, xlabel=\"Epochs\", ylabel=\"Loss\", title=\"Loss\", color1='r', color2='b', label1='Train', label2='Valid')"
      ],
      "metadata": {
        "id": "xR0-OmZtt3Ka"
      },
      "execution_count": 8,
      "outputs": []
    },
    {
      "cell_type": "markdown",
      "source": [
        "### 5. Validation"
      ],
      "metadata": {
        "id": "TFNHK9hdBQPP"
      }
    },
    {
      "cell_type": "markdown",
      "source": [
        "### 6. Test"
      ],
      "metadata": {
        "id": "6uf_bnxHBUk2"
      }
    },
    {
      "cell_type": "code",
      "source": [],
      "metadata": {
        "id": "S1_4bUazBX-C"
      },
      "execution_count": 8,
      "outputs": []
    },
    {
      "cell_type": "markdown",
      "metadata": {
        "id": "dyvATLTVZGJC"
      },
      "source": [
        "### 7. Running Code\n"
      ]
    },
    {
      "cell_type": "markdown",
      "metadata": {
        "id": "Nhl7N070ZGJC"
      },
      "source": [
        "#### 7.1 Loading Parameters"
      ]
    },
    {
      "cell_type": "code",
      "execution_count": 9,
      "metadata": {
        "id": "XhiUQME1ZGJC"
      },
      "outputs": [],
      "source": [
        "class Params:\n",
        "    def __init__(self, **kwargs):\n",
        "        for key, value in kwargs.items():\n",
        "            setattr(self, key, value)\n",
        "            \n",
        "model_map = {0: 'FFNN', 1: 'LSTM', 2: 'FFNN_CLASSIFY', 3: 'LSTM_CLASSIFY'}\n",
        "train_map = {0: 'data/real.train.tok', 1: 'data/fake.train.tok', 2: 'data/mix.train.tok'}\n",
        "valid_map = {0: 'data/real.valid.tok', 1: 'data/fake.valid.tok', 2: 'data/mix.valid.tok'}\n",
        "test_map = {0: 'data/real.test.tok', 1: 'data/fake.test.tok', 2: 'data/mix.test.tok', 3: 'data/blind.test.tok'}\n",
        "\n",
        "model_type = model_map[0]\n",
        "\n",
        "# Types of data\n",
        "train_type = train_map[2]\n",
        "valid_type = valid_map[2]\n",
        "test_type = test_map[2]\n",
        "\n",
        "args = {\n",
        "    \"d_model\": 64,\n",
        "    \"d_hidden\": 64,\n",
        "    \"n_layers\": 3,\n",
        "    \"batch_size\": 64,\n",
        "    \"seq_len\": 30,\n",
        "    \"printevery\": 5000,\n",
        "    \"window\": 3,\n",
        "    \"epochs\": 26,\n",
        "    \"lr\": 0.0001,\n",
        "    \"dropout\": 0.35,\n",
        "    \"clip\": 2.0,\n",
        "    \"model\": model_type,\n",
        "    \"savename\": model_type.lower(),\n",
        "    \"loadname\": model_type.lower(),\n",
        "    \"trainname\": train_type,\n",
        "    \"validname\": valid_type,\n",
        "    \"testname\": test_type\n",
        "}"
      ]
    },
    {
      "cell_type": "markdown",
      "metadata": {
        "id": "rWKB8pXJZGJC"
      },
      "source": [
        "#### 7.2 Main"
      ]
    },
    {
      "cell_type": "code",
      "execution_count": 10,
      "metadata": {
        "id": "YA7ol2ICZGJD"
      },
      "outputs": [],
      "source": [
        "# Main Function\n",
        "def main(args): \n",
        "    torch.manual_seed(0)\n",
        "    \n",
        "    # params\n",
        "    params = Params(**args)\n",
        "    train_name = params.trainname\n",
        "    valid_name = params.validname\n",
        "    test_name = params.testname\n",
        "    model_type = params.model\n",
        "    d_model = params.d_model\n",
        "    d_hidden = params.d_hidden\n",
        "    dropout = params.dropout\n",
        "    epochs = params.epochs\n",
        "    window = params.window\n",
        "    batch_size = params.batch_size\n",
        "    lr = params.lr\n",
        "\n",
        "    # Extract vocab and words\n",
        "    [train_vocab,train_words,train] = read_encode(train_name,[],{},[],3)\n",
        "    train_data = torch.tensor(train)\n",
        "\n",
        "    [valid_vocab,valid_words,valid] = read_encode(valid_name,[],{},[],3)\n",
        "    valid_data = torch.tensor(valid)\n",
        "\n",
        "    [test_vocab,test_words,test] = read_encode(test_name,[],{},[],3)\n",
        "    test_data = torch.tensor(test)\n",
        "\n",
        "    # Process Train Data\n",
        "    train_bios = split_bios(train_data, train_words)\n",
        "    train_bios = clean_bios(train_bios, train_words)\n",
        "    train_ngrams_data = create_ngrams(train_bios, train_words, window)\n",
        "\n",
        "    train_ngram_dataset = NgramDataset(train_ngrams_data)\n",
        "    train_ngram_dataloader = DataLoader(train_ngram_dataset, batch_size=batch_size, shuffle=True)\n",
        "\n",
        "    # Process Valid Data\n",
        "    valid_bios = split_bios(valid_data, valid_words)\n",
        "    valid_bios = clean_bios(valid_bios, valid_words)\n",
        "    valid_ngrams_data = create_ngrams(valid_bios, valid_words, window)\n",
        "\n",
        "    valid_ngram_dataset = NgramDataset(valid_ngrams_data)\n",
        "    valid_ngram_dataloader = DataLoader(valid_ngram_dataset, batch_size=batch_size, shuffle=True)\n",
        "    \n",
        "    if model_type == 'FFNN':\n",
        "\n",
        "      ngram_model = FFNN(train_vocab, train_words, d_model, d_hidden, dropout, window).to(device)\n",
        "      optimizer = torch.optim.Adam(ngram_model.parameters(), lr=lr)\n",
        "      criterion = nn.CrossEntropyLoss()\n",
        "\n",
        "      train_loop(ngram_model, optimizer, criterion, train_ngram_dataloader, valid_ngram_dataloader, epochs)\n",
        "\n",
        "      torch.save(ngram_model.state_dict(), 'ffnn.pth')\n",
        "\n",
        "\n",
        "    if model_type == 'LSTM':\n",
        "        pass\n",
        "    if model_type == 'FFNN_CLASSIFY':\n",
        "        pass\n",
        "    if model_type == 'LSTM_CLASSIFY':\n",
        "        pass\n"
      ]
    },
    {
      "cell_type": "code",
      "execution_count": 11,
      "metadata": {
        "colab": {
          "base_uri": "https://localhost:8080/",
          "height": 1000
        },
        "id": "XW5ArczlZGJD",
        "outputId": "9da219dd-1dde-447d-cc98-a99c42c7bfee"
      },
      "outputs": [
        {
          "metadata": {
            "tags": null
          },
          "name": "stderr",
          "output_type": "stream",
          "text": [
            "<ipython-input-4-e90a221de419>:42: UserWarning: To copy construct from a tensor, it is recommended to use sourceTensor.clone().detach() or sourceTensor.clone().detach().requires_grad_(True), rather than torch.tensor(sourceTensor).\n",
            "  label = torch.tensor(bio[stop]).detach().to(device)\n"
          ]
        },
        {
          "output_type": "stream",
          "name": "stdout",
          "text": [
            "Epoch: 1 /////////////////////////////////////\n",
            "Train Accuracy: 0.16164217339580061\n",
            "Train Loss: 6.450480919150019\n",
            "Train Perplexity: 633.0066446395729\n",
            "\n",
            "Valid Accuracy: 0.006212363250588697\n",
            "Valid Loss: 1.219428345350493\n",
            "Valid Perplexity: 3.385251985347123\n",
            "\n",
            "Epoch: 2 /////////////////////////////////////\n",
            "Train Accuracy: 0.20733722425268186\n",
            "Train Loss: 5.8627588848350936\n",
            "Train Perplexity: 351.69308752933995\n",
            "\n",
            "Valid Accuracy: 0.005947142979788069\n",
            "Valid Loss: 1.2956052183917777\n",
            "Valid Perplexity: 3.653206292848427\n",
            "\n",
            "Epoch: 3 /////////////////////////////////////\n",
            "Train Accuracy: 0.21791677909144427\n",
            "Train Loss: 5.674387615712088\n",
            "Train Perplexity: 291.3098903117091\n",
            "\n",
            "Valid Accuracy: 0.005932962127158555\n",
            "Valid Loss: 1.3203792824194982\n",
            "Valid Perplexity: 3.744841460467305\n",
            "\n",
            "Epoch: 4 /////////////////////////////////////\n",
            "Train Accuracy: 0.22395462842588956\n",
            "Train Loss: 5.564853749771601\n",
            "Train Perplexity: 261.08701688156924\n",
            "\n",
            "Valid Accuracy: 0.0057497608418367345\n",
            "Valid Loss: 1.3555240774968729\n",
            "Valid Perplexity: 3.8787932122945215\n",
            "\n",
            "Epoch: 5 /////////////////////////////////////\n",
            "Train Accuracy: 0.2277853749672946\n",
            "Train Loss: 5.4920681801974025\n",
            "Train Perplexity: 242.7587568849965\n",
            "\n",
            "Valid Accuracy: 0.006052157942503925\n",
            "Valid Loss: 1.3530346845485726\n",
            "Valid Perplexity: 3.8691493804477144\n",
            "\n",
            "Epoch: 6 /////////////////////////////////////\n",
            "Train Accuracy: 0.2305629057512428\n",
            "Train Loss: 5.440284387733396\n",
            "Train Perplexity: 230.5077277104238\n",
            "\n",
            "Valid Accuracy: 0.005924913535125588\n",
            "Valid Loss: 1.362672442122943\n",
            "Valid Perplexity: 3.9066195784992597\n",
            "\n",
            "Epoch: 7 /////////////////////////////////////\n",
            "Train Accuracy: 0.2333524455455259\n",
            "Train Loss: 5.401134870484401\n",
            "Train Perplexity: 221.65782644304073\n",
            "\n",
            "Valid Accuracy: 0.0057256150657378335\n",
            "Valid Loss: 1.3805321284001064\n",
            "Valid Perplexity: 3.977017348406035\n",
            "\n",
            "Epoch: 8 /////////////////////////////////////\n",
            "Train Accuracy: 0.23549886450974622\n",
            "Train Loss: 5.37126042428346\n",
            "Train Perplexity: 215.13385682516207\n",
            "\n",
            "Valid Accuracy: 0.005766624558477237\n",
            "Valid Loss: 1.3794384818623542\n",
            "Valid Perplexity: 3.9726702746667235\n",
            "\n",
            "Epoch: 9 /////////////////////////////////////\n",
            "Train Accuracy: 0.23733483778126635\n",
            "Train Loss: 5.347004377445443\n",
            "Train Perplexity: 209.97833893009894\n",
            "\n",
            "Valid Accuracy: 0.005844044348508634\n",
            "Valid Loss: 1.3788293624176897\n",
            "Valid Perplexity: 3.970251180788539\n",
            "\n",
            "Epoch: 10 /////////////////////////////////////\n",
            "Train Accuracy: 0.2389238598083464\n",
            "Train Loss: 5.3269897393145405\n",
            "Train Perplexity: 205.8174764372262\n",
            "\n",
            "Valid Accuracy: 0.005579590610282574\n",
            "Valid Loss: 1.4075910663539237\n",
            "Valid Perplexity: 4.086100394083738\n",
            "\n",
            "Epoch: 11 /////////////////////////////////////\n",
            "Train Accuracy: 0.2403158829637624\n",
            "Train Loss: 5.310999242053769\n",
            "Train Perplexity: 202.5525263014013\n",
            "\n",
            "Valid Accuracy: 0.005628648695054945\n",
            "Valid Loss: 1.4095523236684935\n",
            "Valid Perplexity: 4.094122152164229\n",
            "\n",
            "Epoch: 12 /////////////////////////////////////\n",
            "Train Accuracy: 0.24164517820349293\n",
            "Train Loss: 5.296427648169467\n",
            "Train Perplexity: 199.6224132030056\n",
            "\n",
            "Valid Accuracy: 0.0057114342131083205\n",
            "Valid Loss: 1.4143428773483264\n",
            "Valid Perplexity: 4.113782318046895\n",
            "\n",
            "Epoch: 13 /////////////////////////////////////\n",
            "Train Accuracy: 0.24240634505003925\n",
            "Train Loss: 5.285457210214677\n",
            "Train Perplexity: 197.44443642745873\n",
            "\n",
            "Valid Accuracy: 0.0056899713010204085\n",
            "Valid Loss: 1.4117188518706072\n",
            "Valid Perplexity: 4.103001798798914\n",
            "\n",
            "Epoch: 14 /////////////////////////////////////\n",
            "Train Accuracy: 0.24359344849718736\n",
            "Train Loss: 5.27451344827421\n",
            "Train Perplexity: 195.29543206289637\n",
            "\n",
            "Valid Accuracy: 0.005514818607731554\n",
            "Valid Loss: 1.433070611658987\n",
            "Valid Perplexity: 4.191550074318811\n",
            "\n",
            "Epoch: 15 /////////////////////////////////////\n",
            "Train Accuracy: 0.24446244092588956\n",
            "Train Loss: 5.265094570020211\n",
            "Train Perplexity: 193.4646038738232\n",
            "\n",
            "Valid Accuracy: 0.005581506941718995\n",
            "Valid Loss: 1.4438908703660291\n",
            "Valid Perplexity: 4.237149987038108\n",
            "\n",
            "Epoch: 16 /////////////////////////////////////\n",
            "Train Accuracy: 0.2454032319057431\n",
            "Train Loss: 5.256062679612655\n",
            "Train Perplexity: 191.72512001255066\n",
            "\n",
            "Valid Accuracy: 0.005627498896193093\n",
            "Valid Loss: 1.4380054932842075\n",
            "Valid Perplexity: 4.21228600035002\n",
            "\n",
            "Epoch: 17 /////////////////////////////////////\n",
            "Train Accuracy: 0.24564264557986656\n",
            "Train Loss: 5.248970740192586\n",
            "Train Perplexity: 190.37022716387614\n",
            "\n",
            "Valid Accuracy: 0.005588789001177394\n",
            "Valid Loss: 1.4478324848216968\n",
            "Valid Perplexity: 4.253884156835018\n",
            "\n",
            "Epoch: 18 /////////////////////////////////////\n",
            "Train Accuracy: 0.24650435594911044\n",
            "Train Loss: 5.243046796268065\n",
            "Train Perplexity: 189.24581836883243\n",
            "\n",
            "Valid Accuracy: 0.0055102194122841446\n",
            "Valid Loss: 1.4440749528550278\n",
            "Valid Perplexity: 4.237930043949189\n",
            "\n",
            "Epoch: 19 /////////////////////////////////////\n",
            "Train Accuracy: 0.24711988160648876\n",
            "Train Loss: 5.236593569127413\n",
            "Train Perplexity: 188.02850414457248\n",
            "\n",
            "Valid Accuracy: 0.005374159880298273\n",
            "Valid Loss: 1.4684427451909619\n",
            "Valid Perplexity: 4.342467544527451\n",
            "\n",
            "Epoch: 20 /////////////////////////////////////\n",
            "Train Accuracy: 0.24774779954048926\n",
            "Train Loss: 5.231914048713268\n",
            "Train Perplexity: 187.15067642922602\n",
            "\n",
            "Valid Accuracy: 0.005403671384419152\n",
            "Valid Loss: 1.4696937262356937\n",
            "Valid Perplexity: 4.347903288410408\n",
            "\n",
            "Epoch: 21 /////////////////////////////////////\n",
            "Train Accuracy: 0.24795629640077183\n",
            "Train Loss: 5.228225505976606\n",
            "Train Perplexity: 186.4616347221344\n",
            "\n",
            "Valid Accuracy: 0.005420535101059654\n",
            "Valid Loss: 1.460060428436173\n",
            "Valid Perplexity: 4.306219738607698\n",
            "\n",
            "Epoch: 22 /////////////////////////////////////\n",
            "Train Accuracy: 0.24822624362244897\n",
            "Train Loss: 5.223752277466107\n",
            "Train Perplexity: 185.62941197056614\n",
            "\n",
            "Valid Accuracy: 0.0054807079081632655\n",
            "Valid Loss: 1.4664322191635892\n",
            "Valid Perplexity: 4.333745671220776\n",
            "\n",
            "Epoch: 23 /////////////////////////////////////\n",
            "Train Accuracy: 0.24895700467687074\n",
            "Train Loss: 5.21967872658531\n",
            "Train Perplexity: 184.87477917699167\n",
            "\n",
            "Valid Accuracy: 0.005358062696232339\n",
            "Valid Loss: 1.4851543118759079\n",
            "Valid Perplexity: 4.415646746941117\n",
            "\n",
            "Epoch: 24 /////////////////////////////////////\n",
            "Train Accuracy: 0.24922835720826791\n",
            "Train Loss: 5.217271980927494\n",
            "Train Perplexity: 184.4303676122879\n",
            "\n",
            "Valid Accuracy: 0.0054860736361852435\n",
            "Valid Loss: 1.4714943740861943\n",
            "Valid Perplexity: 4.355739384027965\n",
            "\n",
            "Epoch: 25 /////////////////////////////////////\n",
            "Train Accuracy: 0.2497216209200026\n",
            "Train Loss: 5.2143890457447135\n",
            "Train Perplexity: 183.89943251019878\n",
            "\n",
            "Valid Accuracy: 0.005391790129513344\n",
            "Valid Loss: 1.4828348272776866\n",
            "Valid Perplexity: 4.405416591251208\n",
            "\n",
            "Epoch: 26 /////////////////////////////////////\n",
            "Train Accuracy: 0.2501134468210361\n",
            "Train Loss: 5.212352889842899\n",
            "Train Perplexity: 183.52536555391112\n",
            "\n",
            "Valid Accuracy: 0.0053151368720565145\n",
            "Valid Loss: 1.5056571587569298\n",
            "Valid Perplexity: 4.507114547078826\n",
            "\n",
            "[0.16164217339580061, 0.20733722425268186, 0.21791677909144427, 0.22395462842588956, 0.2277853749672946, 0.2305629057512428, 0.2333524455455259, 0.23549886450974622, 0.23733483778126635, 0.2389238598083464, 0.2403158829637624, 0.24164517820349293, 0.24240634505003925, 0.24359344849718736, 0.24446244092588956, 0.2454032319057431, 0.24564264557986656, 0.24650435594911044, 0.24711988160648876, 0.24774779954048926, 0.24795629640077183, 0.24822624362244897, 0.24895700467687074, 0.24922835720826791, 0.2497216209200026, 0.2501134468210361]\n",
            "[6.450480919150019, 5.8627588848350936, 5.674387615712088, 5.564853749771601, 5.4920681801974025, 5.440284387733396, 5.401134870484401, 5.37126042428346, 5.347004377445443, 5.3269897393145405, 5.310999242053769, 5.296427648169467, 5.285457210214677, 5.27451344827421, 5.265094570020211, 5.256062679612655, 5.248970740192586, 5.243046796268065, 5.236593569127413, 5.231914048713268, 5.228225505976606, 5.223752277466107, 5.21967872658531, 5.217271980927494, 5.2143890457447135, 5.212352889842899]\n",
            "[0.006212363250588697, 0.005947142979788069, 0.005932962127158555, 0.0057497608418367345, 0.006052157942503925, 0.005924913535125588, 0.0057256150657378335, 0.005766624558477237, 0.005844044348508634, 0.005579590610282574, 0.005628648695054945, 0.0057114342131083205, 0.0056899713010204085, 0.005514818607731554, 0.005581506941718995, 0.005627498896193093, 0.005588789001177394, 0.0055102194122841446, 0.005374159880298273, 0.005403671384419152, 0.005420535101059654, 0.0054807079081632655, 0.005358062696232339, 0.0054860736361852435, 0.005391790129513344, 0.0053151368720565145]\n",
            "[1.219428345350493, 1.2956052183917777, 1.3203792824194982, 1.3555240774968729, 1.3530346845485726, 1.362672442122943, 1.3805321284001064, 1.3794384818623542, 1.3788293624176897, 1.4075910663539237, 1.4095523236684935, 1.4143428773483264, 1.4117188518706072, 1.433070611658987, 1.4438908703660291, 1.4380054932842075, 1.4478324848216968, 1.4440749528550278, 1.4684427451909619, 1.4696937262356937, 1.460060428436173, 1.4664322191635892, 1.4851543118759079, 1.4714943740861943, 1.4828348272776866, 1.5056571587569298]\n",
            "[0, 1, 2, 3, 4, 5, 6, 7, 8, 9, 10, 11, 12, 13, 14, 15, 16, 17, 18, 19, 20, 21, 22, 23, 24, 25]\n"
          ]
        },
        {
          "output_type": "display_data",
          "data": {
            "text/plain": [
              "<Figure size 432x288 with 1 Axes>"
            ],
            "image/png": "[encoded data removed]"
          },
          "metadata": {
            "needs_background": "light"
          }
        },
        {
          "output_type": "display_data",
          "data": {
            "text/plain": [
              "<Figure size 432x288 with 1 Axes>"
            ],
            "image/png": "[encoded data removed]"
          },
          "metadata": {
            "needs_background": "light"
          }
        }
      ],
      "source": [
        "main(args)"
      ]
    }
  ],
  "metadata": {
    "kernelspec": {
      "display_name": "Python 3",
      "language": "python",
      "name": "python3"
    },
    "language_info": {
      "name": "python",
      "version": "3.9.12"
    },
    "orig_nbformat": 4,
    "vscode": {
      "interpreter": {
        "hash": "b0fa6594d8f4cbf19f97940f81e996739fb7646882a419484c72d19e05852a7e"
      }
    },
    "colab": {
      "provenance": []
    },
    "accelerator": "GPU",
    "gpuClass": "standard"
  },
  "nbformat": 4,
  "nbformat_minor": 0
}