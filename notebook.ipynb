{
 "cells": [
  {
   "cell_type": "markdown",
   "metadata": {},
   "source": [
    "## 1. Set-up"
   ]
  },
  {
   "cell_type": "markdown",
   "metadata": {},
   "source": [
    "### 1.1 Imports"
   ]
  },
  {
   "cell_type": "code",
   "execution_count": 466,
   "metadata": {},
   "outputs": [],
   "source": [
    "# Imports\n",
    "from torch.nn.utils.rnn import pad_sequence\n",
    "from torch.utils.data import Dataset\n",
    "from torch.utils.data import DataLoader\n",
    "import torch\n",
    "import torch.nn.functional as F\n",
    "import torch.nn as nn\n",
    "import torch.optim as optim\n",
    "import math\n",
    "import time\n",
    "import numpy as np\n",
    "import sys\n",
    "import argparse\n",
    "import os\n",
    "import matplotlib.pyplot as plt\n",
    "import pandas as pd\n",
    "import math"
   ]
  },
  {
   "cell_type": "markdown",
   "metadata": {},
   "source": [
    "### 1.2 Helper Functions"
   ]
  },
  {
   "cell_type": "code",
   "execution_count": 467,
   "metadata": {},
   "outputs": [],
   "source": [
    "# Encoding and decoding\n",
    "def decode(vocab,corpus):\n",
    "    \n",
    "    text = ''\n",
    "    for i in range(len(corpus)):\n",
    "        wID = corpus[i]\n",
    "        text = text + vocab[wID] + ' '\n",
    "    return(text)\n",
    "\n",
    "def encode(words,text):\n",
    "    corpus = []\n",
    "    tokens = text.split(' ')\n",
    "    for t in tokens:\n",
    "        try:\n",
    "            wID = words[t][0]\n",
    "        except:\n",
    "            wID = words['<unk>'][0]\n",
    "        corpus.append(wID)\n",
    "    return(corpus)\n",
    "\n",
    "def read_encode(file_name,vocab,words,corpus,threshold):\n",
    "    \n",
    "    wID = len(vocab)\n",
    "    \n",
    "    if threshold > -1:\n",
    "        with open(file_name,'rt', encoding='utf8') as f:\n",
    "            for line in f:\n",
    "                line = line.replace('\\n','')\n",
    "                tokens = line.split(' ')\n",
    "                for t in tokens:\n",
    "                    try:\n",
    "                        elem = words[t]\n",
    "                    except:\n",
    "                        elem = [wID,0]\n",
    "                        vocab.append(t)\n",
    "                        wID = wID + 1\n",
    "                    elem[1] = elem[1] + 1\n",
    "                    words[t] = elem\n",
    "\n",
    "        temp = words\n",
    "        words = {}\n",
    "        vocab = []\n",
    "        wID = 0\n",
    "        words['<unk>'] = [wID,100]\n",
    "        vocab.append('<unk>')\n",
    "        for t in temp:\n",
    "            if temp[t][1] >= threshold:\n",
    "                vocab.append(t)\n",
    "                wID = wID + 1\n",
    "                words[t] = [wID,temp[t][1]]\n",
    "            \n",
    "                    \n",
    "    with open(file_name,'rt', encoding='utf8') as f:\n",
    "        for line in f:\n",
    "            line = line.replace('\\n','')\n",
    "            tokens = line.split(' ')\n",
    "            for t in tokens:\n",
    "                try:\n",
    "                    wID = words[t][0]\n",
    "                except:\n",
    "                    wID = words['<unk>'][0]\n",
    "                corpus.append(wID)\n",
    "                \n",
    "    return [vocab,words,corpus]\n",
    "\n",
    "def plot_data(x, y, xlabel, ylabel):\n",
    "    plt.plot(x, y)\n",
    "    plt.xlabel(xlabel)\n",
    "    plt.ylabel(ylabel)\n",
    "    plt.show()"
   ]
  },
  {
   "cell_type": "markdown",
   "metadata": {},
   "source": [
    "### 1.3 Device"
   ]
  },
  {
   "cell_type": "code",
   "execution_count": 468,
   "metadata": {},
   "outputs": [],
   "source": [
    "# CUDA\n",
    "device = torch.device('cuda' if torch.cuda.is_available() else 'cpu') "
   ]
  },
  {
   "cell_type": "markdown",
   "metadata": {},
   "source": [
    "## 2. Data-Preprocessing"
   ]
  },
  {
   "cell_type": "markdown",
   "metadata": {},
   "source": [
    "### 2.1 Creating DataFrame"
   ]
  },
  {
   "cell_type": "code",
   "execution_count": 469,
   "metadata": {},
   "outputs": [],
   "source": [
    "def create_df(bios, targets):\n",
    "    zipped_data = list(zip(bios, targets))\n",
    "    text_df = pd.DataFrame(zipped_data, columns=['Bios', 'Labels'])\n",
    "    return text_df"
   ]
  },
  {
   "cell_type": "markdown",
   "metadata": {},
   "source": [
    "### 2.2 Preprocessing Function"
   ]
  },
  {
   "cell_type": "code",
   "execution_count": 470,
   "metadata": {},
   "outputs": [],
   "source": [
    "# Preprocessing\n",
    "def process_data(data, words):\n",
    "    fake_i = (data == words[\"[FAKE]\"][0])\n",
    "    real_i = (data == words[\"[REAL]\"][0])\n",
    "    target_indices = (fake_i + real_i).nonzero()\n",
    "    num_entries = len(target_indices)\n",
    "    bio_tensor_list = []\n",
    "    target_list = []\n",
    "    entry = 0\n",
    "    start_i = 0\n",
    "\n",
    "    while entry < num_entries:\n",
    "        target_i = target_indices[entry]\n",
    "\n",
    "        # Size of data and targets\n",
    "        #print(f\"Data size: {data[start_i:target_i].size()}\")\n",
    "        #print(f\"Target size: {data[target_i].size()}\")\n",
    "\n",
    "        # Take in a list of tensors and use pad sequence\n",
    "        bio = data[start_i:target_i]\n",
    "        target = [1, 0] if data[target_i] == 122 else [0, 1]\n",
    "\n",
    "        bio_tensor_list.append(torch.tensor(bio).squeeze())\n",
    "        target_list.append(target)\n",
    "\n",
    "        start_i = target_i + 1\n",
    "        entry += 1\n",
    "\n",
    "    # have largest size be 880\n",
    "    pad_bias = torch.ones(880)\n",
    "    bio_tensor_list.append(pad_bias)\n",
    "\n",
    "    padded_bios = torch.t(pad_sequence(bio_tensor_list))\n",
    "    padded_bios = padded_bios[:-1]\n",
    "    targets = torch.tensor(target_list)\n",
    "\n",
    "    # print(\"First bio\", padded_bios[0].size())\n",
    "    # print(\"Second bio\", padded_bios[1].size())\n",
    "    data_df = create_df(padded_bios, targets)\n",
    "    return data_df"
   ]
  },
  {
   "cell_type": "markdown",
   "metadata": {},
   "source": [
    "### 2.3 Dataset Class"
   ]
  },
  {
   "cell_type": "code",
   "execution_count": 471,
   "metadata": {},
   "outputs": [],
   "source": [
    "class TextDataset(Dataset):\n",
    "    def __init__(self, data_df):\n",
    "        self.text_df = data_df\n",
    "        print(\"Head of Data\", self.text_df.head())\n",
    "        self.x = self.text_df['Bios']\n",
    "        self.y = self.text_df['Labels']\n",
    "\n",
    "    def __len__(self):\n",
    "        return len(self.y)\n",
    "\n",
    "    def __getitem__(self, idx):\n",
    "        return self.x[idx], self.y[idx]"
   ]
  },
  {
   "cell_type": "markdown",
   "metadata": {},
   "source": [
    "## 3. Models"
   ]
  },
  {
   "cell_type": "markdown",
   "metadata": {},
   "source": [
    "### 3.1 FFNN"
   ]
  },
  {
   "cell_type": "code",
   "execution_count": 472,
   "metadata": {},
   "outputs": [],
   "source": [
    "# FeedForward Model\n",
    "class FFNN(nn.Module):\n",
    "    def __init__(self, vocab, words, d_model, d_hidden, dropout):\n",
    "        super().__init__() \n",
    "    \n",
    "        # Class parameters\n",
    "        self.vocab = vocab\n",
    "        self.words = words\n",
    "        self.vocab_size = len(self.vocab)\n",
    "        self.d_model = d_model\n",
    "        self.d_hidden = d_hidden\n",
    "        \n",
    "        # Dropout\n",
    "        self.dropout = nn.Dropout(p=dropout)\n",
    "\n",
    "        # Embedding Layer\n",
    "        self.embeds = nn.Embedding(self.vocab_size, self.d_model)\n",
    "\n",
    "        # Linear Layers\n",
    "        self.fc1 = nn.Linear(880, d_hidden)\n",
    "        self.fc2 = nn.Linear(d_hidden, 2)\n",
    "\n",
    "        # Nonlinear Layer\n",
    "        self.activation = nn.Tanh()\n",
    "\n",
    "        # Setting weights\n",
    "        self.init_weights()\n",
    "                \n",
    "    # Initialize weights for foward layer\n",
    "    def init_weights(self):\n",
    "        weight_range = 0.1\n",
    "        self.embeds.weight.data.uniform_(-weight_range, weight_range)\n",
    "        self.fc1.weight.data.uniform_(-weight_range, weight_range)\n",
    "        self.fc1.bias.data.zero_()\n",
    "\n",
    "    # Forward\n",
    "    def forward(self, src):\n",
    "        # Embeddings are fed into the forward layer\n",
    "        #embeds = self.embeds(src).view((-1, 880 * self.d_model))\n",
    "        x = self.dropout(self.activation(self.fc1(src.float())))\n",
    "        x = self.fc2(x)\n",
    "        return x"
   ]
  },
  {
   "cell_type": "markdown",
   "metadata": {},
   "source": [
    "### 3.2 LSTM"
   ]
  },
  {
   "cell_type": "code",
   "execution_count": 473,
   "metadata": {},
   "outputs": [],
   "source": [
    "# LSTM Model\n",
    "class LSTM(nn.Module):\n",
    "    def __init__(self,vocab,words,d_model,d_hidden,n_layers,dropout_rate):\n",
    "        super().__init__()\n",
    "        \n",
    "        # Class Parameters\n",
    "        self.vocab = vocab\n",
    "        self.words = words\n",
    "        self.vocab_size = len(self.vocab)\n",
    "        self.n_layers = n_layers\n",
    "        self.d_hidden = d_hidden\n",
    "        self.d_model = d_model\n",
    "\n",
    "        # Embedding Layer\n",
    "        self.embeds = nn.Embedding(self.vocab_size,self.d_model)\n",
    "        \n",
    "    # Forward\n",
    "    def forward(self,src,h):\n",
    "        embeds = self.dropout(self.embeds(src))       \n",
    "        return [preds,h]\n",
    "    \n",
    "    def init_weights(self):\n",
    "        pass        \n",
    "    \n",
    "    def detach_hidden(self, hidden):\n",
    "        return [hidden, cell]"
   ]
  },
  {
   "cell_type": "markdown",
   "metadata": {},
   "source": [
    "## 4. Training"
   ]
  },
  {
   "cell_type": "code",
   "execution_count": 474,
   "metadata": {},
   "outputs": [],
   "source": [
    "def get_accuracy(preds, truth):\n",
    "    preds, truth = np.array(preds), np.array(truth)\n",
    "    acc_arr = preds == truth\n",
    "    return np.sum(acc_arr) / len(acc_arr)"
   ]
  },
  {
   "attachments": {},
   "cell_type": "markdown",
   "metadata": {},
   "source": [
    "### 4.1 Train One Epoch"
   ]
  },
  {
   "cell_type": "code",
   "execution_count": 475,
   "metadata": {},
   "outputs": [],
   "source": [
    "# Train Model Function\n",
    "def train_model(model, train_data_loader, optimizer, criterion):\n",
    "        #print(data.size())\n",
    "        cur_loss = 0\n",
    "        cur_acc = 0\n",
    "        num_batches = len(train_data_loader)\n",
    "        \n",
    "        for batch_idx, (train_features, train_labels) in enumerate(train_data_loader):\n",
    "            optimizer.zero_grad()\n",
    "            # print(f\"Train Features: {train_features[0]}\")\n",
    "            logit_output = model(train_features)\n",
    "            probs = torch.softmax(logit_output, dim=1)\n",
    "\n",
    "            # print(f\"Probs Size: {probs.size()}\")\n",
    "            # print(f\"Labels Size: {train_labels.size()}\")\n",
    "\n",
    "            loss = criterion(probs.float(), train_labels.float())\n",
    "            preds = torch.argmax(logit_output, dim=1)\n",
    "            truth = torch.argmax(train_labels, dim=1)\n",
    "            \n",
    "            # print(f\"Logit Output = {logit_output}\")\n",
    "            # print(f\"Probs = {probs}; Preds = {preds}\\nLabels = {train_labels}; Truth = {truth}\\n\")\n",
    "\n",
    "            acc = get_accuracy(preds, truth)\n",
    "\n",
    "            loss.backward()\n",
    "            optimizer.step()\n",
    "\n",
    "            cur_loss += loss.item()\n",
    "            cur_acc += acc\n",
    "\n",
    "        # Shapes of output and targets\n",
    "        # print(f\"Output size: {probs.size()}\")\n",
    "        # print(f\"Target size: {train_labels.size()}\")\n",
    "\n",
    "        # loss = F.mse_loss(output.float(), targets.float())\n",
    "        # output = torch.argmax(output, dim=1)\n",
    "\n",
    "        av_loss = cur_loss / num_batches\n",
    "        av_acc = cur_acc / num_batches\n",
    "        return av_loss, av_acc"
   ]
  },
  {
   "cell_type": "markdown",
   "metadata": {},
   "source": [
    "### 4.2 Training over Epochs"
   ]
  },
  {
   "cell_type": "code",
   "execution_count": 476,
   "metadata": {},
   "outputs": [],
   "source": [
    "def train_loop(model, data_df, epochs, optimizer, criterion):\n",
    "\n",
    "    data = TextDataset(data_df)\n",
    "    train_dataloader = DataLoader(data, batch_size=4000, shuffle=True)\n",
    "    average_loss_list = []\n",
    "    average_perp_list = []\n",
    "    average_acc_list = []\n",
    "    epoch_list = []\n",
    "    \n",
    "    for epoch in range(0, epochs):\n",
    "        model.train(True)\n",
    "        average_loss, average_accuracy = train_model(model, train_dataloader, optimizer, criterion)\n",
    "        average_perplexity = math.exp(average_loss)\n",
    "        model.train(False)\n",
    "\n",
    "        average_loss_list.append(average_loss)\n",
    "        average_perp_list.append(average_perplexity)\n",
    "        average_acc_list.append(average_accuracy)\n",
    "        epoch_list.append(epoch)\n",
    "    \n",
    "        print(f\"At Epoch {epoch}, Accuracy = {average_accuracy} & Loss = {average_loss}\")\n",
    "\n",
    "    plot_data(epoch_list, average_loss_list, 'Epoch', 'Loss')\n",
    "    plot_data(epoch_list, average_perp_list, 'Epoch', 'Perplexity')\n",
    "    plot_data(epoch_list, average_acc_list, 'Epoch', 'Accuracy')"
   ]
  },
  {
   "attachments": {},
   "cell_type": "markdown",
   "metadata": {},
   "source": [
    "## 5. Testing Code"
   ]
  },
  {
   "cell_type": "code",
   "execution_count": 477,
   "metadata": {},
   "outputs": [],
   "source": [
    "def test_model(model, df):\n",
    "    data = TextDataset(df)\n",
    "    dataloader = DataLoader(data, batch_size=len(df), shuffle=True)\n",
    "\n",
    "    for batch_idx, (features, labels) in enumerate(dataloader):\n",
    "        print(features.size())\n",
    "        outputs = model(features).squeeze()\n",
    "        outputs = torch.softmax(outputs, dim=1)\n",
    "        outputs = torch.argmax(outputs, dim=1)\n",
    "        truth = torch.argmax(labels, dim=1)\n",
    "\n",
    "        acc = get_accuracy(truth, outputs)\n",
    "\n",
    "    return acc"
   ]
  },
  {
   "cell_type": "markdown",
   "metadata": {},
   "source": [
    "## 5. Running Code"
   ]
  },
  {
   "cell_type": "markdown",
   "metadata": {},
   "source": [
    "### 5.1 Loading Parameters"
   ]
  },
  {
   "cell_type": "code",
   "execution_count": 478,
   "metadata": {},
   "outputs": [],
   "source": [
    "class Params:\n",
    "    def __init__(self, **kwargs):\n",
    "        for key, value in kwargs.items():\n",
    "            setattr(self, key, value)\n",
    "            \n",
    "model_map = {0: 'FFNN', 1: 'LSTM', 2: 'FFNN_CLASSIFY', 3: 'LSTM_CLASSIFY'}\n",
    "train_map = {0: 'data/real.train.tok', 1: 'data/fake.train.tok', 2: 'data/mix.train.tok'}\n",
    "valid_map = {0: 'data/real.valid.tok', 1: 'data/fake.valid.tok', 2: 'data/mix.valid.tok'}\n",
    "test_map = {0: 'data/real.test.tok', 1: 'data/fake.test.tok', 2: 'data/mix.test.tok', 3: 'data/blind.test.tok'}\n",
    "\n",
    "model_type = model_map[2]\n",
    "# train_type = [train_map[0], train_map[1]]\n",
    "\n",
    "# Types of data\n",
    "train_type = train_map[2]\n",
    "valid_type = valid_map[2]\n",
    "test_type = test_map[0]\n",
    "\n",
    "args = {\n",
    "    \"d_model\": 8,\n",
    "    \"d_hidden\": 8,\n",
    "    \"n_layers\": 3,\n",
    "    \"batch_size\": 20,\n",
    "    \"seq_len\": 30,\n",
    "    \"printevery\": 5000,\n",
    "    \"window\": 3,\n",
    "    \"epochs\": 20,\n",
    "    \"lr\": 0.0001,\n",
    "    \"dropout\": 0.35,\n",
    "    \"clip\": 2.0,\n",
    "    \"model\": model_type,\n",
    "    \"savename\": model_type.lower(),\n",
    "    \"loadname\": model_type.lower(),\n",
    "    \"trainname\": train_type,\n",
    "    \"validname\": valid_type,\n",
    "    \"testname\": test_type\n",
    "}"
   ]
  },
  {
   "cell_type": "markdown",
   "metadata": {},
   "source": [
    "### 5.2 Main Function"
   ]
  },
  {
   "cell_type": "code",
   "execution_count": 479,
   "metadata": {},
   "outputs": [],
   "source": [
    "# Main Function\n",
    "def main(args): \n",
    "    torch.manual_seed(0)\n",
    "    \n",
    "    params = Params(**args)\n",
    "    train_name = params.trainname\n",
    "    valid_name = params.validname\n",
    "    test_name = params.testname\n",
    "    model_type = params.model\n",
    "    d_mod = params.d_model\n",
    "    d_hid = params.d_hidden\n",
    "    dropout = params.dropout\n",
    "    epochs = params.epochs\n",
    "\n",
    "    # real, fake = params.trainname\n",
    "    # [vocab_real, words_real, train_real] = read_encode(real, [], {}, [], 3)\n",
    "    # [vocab_fake, words_fake, train_fake] = read_encode(fake, [], {}, [], 3)\n",
    "\n",
    "    # train_features = torch.cat((torch.tensor(train_real), torch.tensor(train_fake)))\n",
    "    # train_labels = torch.cat((torch.ones(len(train_real)), torch.zeros(len(train_fake))))\n",
    "    # print(f'train_features: {train_features}')\n",
    "    # print(f'train_labels: {train_labels}')\n",
    "\n",
    "    [vocab,words,train] = read_encode(train_name,[],{},[],3)\n",
    "    train_data = torch.tensor(train)\n",
    "\n",
    "    [valid_vocab,valid_words,valid] = read_encode(valid_name,[],{},[],3)\n",
    "    valid_data = torch.tensor(valid)\n",
    "    \n",
    "    # print('vocab: %d train: %d' % (len(vocab),len(train)))\n",
    "    # print(f'vocab: {vocab[10:20]}\\n \\n train: {train[10:20]}')\n",
    "    print(f'fake id: {words[\"[FAKE]\"]}')\n",
    "    print(f'real id: {words[\"[REAL]\"]}')\n",
    "\n",
    "    # [vocab,words,test] = read_encode(test_name,vocab,words,[],-1)\n",
    "    # test_data = torch.tensor(test)\n",
    "\n",
    "    #print('vocab: %d test: %d' % (len(vocab),len(test)))\n",
    "\n",
    "    vocab_size = len(vocab)\n",
    "    train_df = process_data(train_data, words)\n",
    "    validation_df = process_data(valid_data, valid_words)\n",
    "    #test_df = process_data(test_data, test_name)\n",
    "    \n",
    "    if model_type == 'FFNN':\n",
    "        ffnn_model = FFNN(vocab, words, d_mod, d_hid, dropout)\n",
    "        ffnn_model.to(device)\n",
    "        optimizer = torch.optim.SGD(ffnn_model.parameters(), lr=0.01, momentum=0.9)\n",
    "        criterion = nn.BCELoss()\n",
    "        train_loop(ffnn_model, train_df, epochs, optimizer, criterion)\n",
    "        # print(ffnn_model)\n",
    "#          {add code to instantiate the model, train for K epochs and save model to disk}\n",
    "        \n",
    "    if model_type == 'LSTM':\n",
    "        pass\n",
    "#          {add code to instantiate the model, train for K epochs and save model to disk}\n",
    "\n",
    "    if model_type == 'FFNN_CLASSIFY':\n",
    "        ffnn_model = FFNN(vocab, words, d_mod, d_hid, dropout)\n",
    "        ffnn_model.to(device)\n",
    "        optimizer = torch.optim.SGD(ffnn_model.parameters(), lr=0.01, momentum=0.9)\n",
    "        criterion = nn.BCELoss()\n",
    "        train_loop(ffnn_model, train_df, epochs, optimizer, criterion)\n",
    "\n",
    "\n",
    "        acc = test_model(ffnn_model, validation_df)\n",
    "        print(acc)\n",
    "        \n",
    "#          {add code to instantiate the model, recall model parameters and perform/learn classification}    \n",
    "\n",
    "    if model_type == 'LSTM_CLASSIFY':\n",
    "        pass\n",
    "#          {add code to instantiate the model, recall model parameters and perform/learn classification}\n"
   ]
  },
  {
   "cell_type": "markdown",
   "metadata": {},
   "source": [
    "### 5.3 Running Main Function"
   ]
  },
  {
   "cell_type": "code",
   "execution_count": 480,
   "metadata": {},
   "outputs": [
    {
     "name": "stdout",
     "output_type": "stream",
     "text": [
      "fake id: [122, 3913]\n",
      "real id: [635, 4049]\n"
     ]
    },
    {
     "name": "stderr",
     "output_type": "stream",
     "text": [
      "C:\\Users\\zarif_vfgx7yn\\AppData\\Local\\Temp\\ipykernel_7116\\2191483302.py:23: UserWarning: To copy construct from a tensor, it is recommended to use sourceTensor.clone().detach() or sourceTensor.clone().detach().requires_grad_(True), rather than torch.tensor(sourceTensor).\n",
      "  bio_tensor_list.append(torch.tensor(bio).squeeze())\n"
     ]
    },
    {
     "name": "stdout",
     "output_type": "stream",
     "text": [
      "Head of Data                                                 Bios                  Labels\n",
      "0  [tensor(1), tensor(2), tensor(3), tensor(4), t...  [tensor(1), tensor(0)]\n",
      "1  [tensor(1), tensor(2), tensor(3), tensor(4), t...  [tensor(1), tensor(0)]\n",
      "2  [tensor(1), tensor(2), tensor(3), tensor(4), t...  [tensor(1), tensor(0)]\n",
      "3  [tensor(1), tensor(2), tensor(3), tensor(4), t...  [tensor(1), tensor(0)]\n",
      "4  [tensor(93), tensor(1), tensor(2), tensor(3), ...  [tensor(0), tensor(1)]\n",
      "At Epoch 0, Accuracy = 0.5170863200403837 & Loss = 0.8656337261199951\n",
      "At Epoch 1, Accuracy = 0.5300080767289248 & Loss = 0.8271915316581726\n",
      "At Epoch 2, Accuracy = 0.5383060323069158 & Loss = 0.7988894879817963\n",
      "At Epoch 3, Accuracy = 0.5329010600706714 & Loss = 0.7775582671165466\n",
      "At Epoch 4, Accuracy = 0.5297640711761736 & Loss = 0.7614709734916687\n",
      "At Epoch 5, Accuracy = 0.5277700656234225 & Loss = 0.7518705725669861\n",
      "At Epoch 6, Accuracy = 0.5297472867238768 & Loss = 0.7376964092254639\n",
      "At Epoch 7, Accuracy = 0.5245983089348814 & Loss = 0.7272225022315979\n",
      "At Epoch 8, Accuracy = 0.5354442200908632 & Loss = 0.7169096767902374\n",
      "At Epoch 9, Accuracy = 0.5510065623422514 & Loss = 0.70085808634758\n",
      "At Epoch 10, Accuracy = 0.5567949268046442 & Loss = 0.696189671754837\n",
      "At Epoch 11, Accuracy = 0.5643069156991418 & Loss = 0.687273770570755\n",
      "At Epoch 12, Accuracy = 0.5793716557294296 & Loss = 0.6776801645755768\n",
      "At Epoch 13, Accuracy = 0.581167213528521 & Loss = 0.6768065690994263\n",
      "At Epoch 14, Accuracy = 0.5938425668854115 & Loss = 0.6695948541164398\n",
      "At Epoch 15, Accuracy = 0.5829966557294296 & Loss = 0.6760282814502716\n",
      "At Epoch 16, Accuracy = 0.5983665446744069 & Loss = 0.6674710810184479\n",
      "At Epoch 17, Accuracy = 0.5859148157496215 & Loss = 0.6754305064678192\n",
      "At Epoch 18, Accuracy = 0.571436711256941 & Loss = 0.682014673948288\n",
      "At Epoch 19, Accuracy = 0.5483024356385664 & Loss = 0.6904479265213013\n"
     ]
    },
    {
     "data": {
      "image/png": "[encoded data removed]",
      "text/plain": [
       "<Figure size 432x288 with 1 Axes>"
      ]
     },
     "metadata": {
      "needs_background": "light"
     },
     "output_type": "display_data"
    },
    {
     "data": {
      "image/png": "[encoded data removed]",
      "text/plain": [
       "<Figure size 432x288 with 1 Axes>"
      ]
     },
     "metadata": {
      "needs_background": "light"
     },
     "output_type": "display_data"
    },
    {
     "data": {
      "image/png": "[encoded data removed]",
      "text/plain": [
       "<Figure size 432x288 with 1 Axes>"
      ]
     },
     "metadata": {
      "needs_background": "light"
     },
     "output_type": "display_data"
    },
    {
     "name": "stdout",
     "output_type": "stream",
     "text": [
      "Head of Data                                                 Bios                  Labels\n",
      "0  [tensor(1), tensor(2), tensor(3), tensor(4), t...  [tensor(0), tensor(1)]\n",
      "1  [tensor(34), tensor(1), tensor(2), tensor(3), ...  [tensor(0), tensor(1)]\n",
      "2  [tensor(34), tensor(1), tensor(2), tensor(3), ...  [tensor(0), tensor(1)]\n",
      "3  [tensor(1), tensor(2), tensor(3), tensor(4), t...  [tensor(0), tensor(1)]\n",
      "4  [tensor(1), tensor(2), tensor(3), tensor(4), t...  [tensor(0), tensor(1)]\n",
      "torch.Size([986, 880])\n",
      "0.9705882352941176\n"
     ]
    }
   ],
   "source": [
    "main(args)"
   ]
  }
 ],
 "metadata": {
  "kernelspec": {
   "display_name": "Python 3.9.2 64-bit",
   "language": "python",
   "name": "python3"
  },
  "language_info": {
   "codemirror_mode": {
    "name": "ipython",
    "version": 3
   },
   "file_extension": ".py",
   "mimetype": "text/x-python",
   "name": "python",
   "nbconvert_exporter": "python",
   "pygments_lexer": "ipython3",
   "version": "3.9.2"
  },
  "orig_nbformat": 4,
  "vscode": {
   "interpreter": {
    "hash": "11938c6bc6919ae2720b4d5011047913343b08a43b18698fd82dedb0d4417594"
   }
  }
 },
 "nbformat": 4,
 "nbformat_minor": 2
}
