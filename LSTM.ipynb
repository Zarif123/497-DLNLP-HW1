{
  "cells": [
    {
      "cell_type": "markdown",
      "metadata": {
        "id": "fdwVctTdZGI-"
      },
      "source": [
        "### 1. Set-up"
      ]
    },
    {
      "cell_type": "markdown",
      "source": [
        "#### 1.1 Imports"
      ],
      "metadata": {
        "id": "83Gy5-2fxt5K"
      }
    },
    {
      "cell_type": "code",
      "execution_count": 45,
      "metadata": {
        "id": "HKVapGxaZGI_"
      },
      "outputs": [],
      "source": [
        "# Imports\n",
        "from torch.nn.utils.rnn import pad_sequence\n",
        "from torch.utils.data import Dataset\n",
        "from torch.utils.data import DataLoader\n",
        "from sklearn.metrics import confusion_matrix, ConfusionMatrixDisplay, accuracy_score\n",
        "import torch\n",
        "import torch.nn.functional as F\n",
        "import torch.nn as nn\n",
        "import torch.optim as optim\n",
        "import math\n",
        "import time\n",
        "import numpy as np\n",
        "import sys\n",
        "import argparse\n",
        "import os\n",
        "import matplotlib.pyplot as plt\n",
        "import pandas as pd\n",
        "import math"
      ]
    },
    {
      "cell_type": "markdown",
      "source": [
        "#### 1.2 CUDA"
      ],
      "metadata": {
        "id": "3yNwZTYKxvb2"
      }
    },
    {
      "cell_type": "code",
      "source": [
        "device = torch.device('cuda' if torch.cuda.is_available() else 'cpu')"
      ],
      "metadata": {
        "id": "VXD7OSs6xx57"
      },
      "execution_count": 46,
      "outputs": []
    },
    {
      "cell_type": "markdown",
      "metadata": {
        "id": "8pPI3JZAZGJA"
      },
      "source": [
        "### 2. Data Pre-Processing"
      ]
    },
    {
      "cell_type": "markdown",
      "metadata": {
        "id": "rdtpPAqyZGJA"
      },
      "source": [
        "#### 2.1 Helper Functions"
      ]
    },
    {
      "cell_type": "code",
      "execution_count": 47,
      "metadata": {
        "id": "7EZfC-ZVZGJA"
      },
      "outputs": [],
      "source": [
        "# Encoding and decoding\n",
        "def decode(vocab,corpus):\n",
        "    \n",
        "    text = ''\n",
        "    for i in range(len(corpus)):\n",
        "        wID = corpus[i]\n",
        "        text = text + vocab[wID] + ' '\n",
        "    return(text)\n",
        "\n",
        "def encode(words,text):\n",
        "    corpus = []\n",
        "    tokens = text.split(' ')\n",
        "    for t in tokens:\n",
        "        try:\n",
        "            wID = words[t][0]\n",
        "        except:\n",
        "            wID = words['<unk>'][0]\n",
        "        corpus.append(wID)\n",
        "    return(corpus)\n",
        "\n",
        "def read_encode(file_name,vocab,words,corpus,threshold):\n",
        "    \n",
        "    wID = len(vocab)\n",
        "    \n",
        "    if threshold > -1:\n",
        "        with open(file_name,'rt', encoding='utf8') as f:\n",
        "            for line in f:\n",
        "                line = line.replace('\\n','')\n",
        "                tokens = line.split(' ')\n",
        "                for t in tokens:\n",
        "                    try:\n",
        "                        elem = words[t]\n",
        "                    except:\n",
        "                        elem = [wID,0]\n",
        "                        vocab.append(t)\n",
        "                        wID = wID + 1\n",
        "                    elem[1] = elem[1] + 1\n",
        "                    words[t] = elem\n",
        "\n",
        "        temp = words\n",
        "        words = {}\n",
        "        vocab = []\n",
        "        wID = 0\n",
        "        words['<unk>'] = [wID,100]\n",
        "        vocab.append('<unk>')\n",
        "        for t in temp:\n",
        "            if temp[t][1] >= threshold:\n",
        "                vocab.append(t)\n",
        "                wID = wID + 1\n",
        "                words[t] = [wID,temp[t][1]]\n",
        "            \n",
        "                    \n",
        "    with open(file_name,'rt', encoding='utf8') as f:\n",
        "        for line in f:\n",
        "            line = line.replace('\\n','')\n",
        "            tokens = line.split(' ')\n",
        "            for t in tokens:\n",
        "                try:\n",
        "                    wID = words[t][0]\n",
        "                except:\n",
        "                    wID = words['<unk>'][0]\n",
        "                corpus.append(wID)\n",
        "                \n",
        "    return [vocab,words,corpus]\n",
        "\n",
        "def plot_data(x, y1, y2, xlabel, ylabel, title, color1, color2, label1, label2):\n",
        "    plt.plot(x, y1, color1, label=label1)\n",
        "    plt.plot(x, y2, color2, label=label2)\n",
        "    plt.xlabel(xlabel)\n",
        "    plt.ylabel(ylabel)\n",
        "    plt.title(title)\n",
        "    plt.legend()\n",
        "    plt.show()"
      ]
    },
    {
      "cell_type": "markdown",
      "source": [
        "#### 2.2 Create ngrams"
      ],
      "metadata": {
        "id": "LZK9fYthaOit"
      }
    },
    {
      "cell_type": "code",
      "source": [
        "def split_bios(data, words):\n",
        "  fake_val, real_val = words[\"[FAKE]\"][0], words[\"[REAL]\"][0]\n",
        "  fake_list = (data == fake_val)\n",
        "  real_list = (data == real_val)\n",
        "  target_indices = (fake_list + real_list).nonzero()\n",
        "  bios_list = []\n",
        "  start_i = 0\n",
        "\n",
        "  for end_i in target_indices:\n",
        "    bio = data[start_i:end_i+1]\n",
        "    bios_list.append(bio)\n",
        "\n",
        "    start_i = end_i + 1\n",
        "\n",
        "  return bios_list\n",
        "\n",
        "def clean_bios(bios, words):\n",
        "  for bio_i in range(len(bios)):\n",
        "    # Remove new lines and punctuation\n",
        "    new_line_idx = words[''][0]\n",
        "    comma_idx = words[','][0]\n",
        "    period_idx = words['.'][0]\n",
        "    colon_idx = words[':'][0]\n",
        "    semicolon_idx = words[';'][0]\n",
        "\n",
        "    punctuation_indices = [new_line_idx, comma_idx, period_idx, colon_idx, semicolon_idx]\n",
        "\n",
        "    bios[bio_i] = list(filter(lambda x: x not in punctuation_indices, bios[bio_i]))\n",
        "\n",
        "  return bios\n",
        "\n",
        "########################################################################\n",
        "def clean_data(data, words):\n",
        "  new_line_idx = words[''][0]\n",
        "  comma_idx = words[','][0]\n",
        "  period_idx = words['.'][0]\n",
        "  colon_idx = words[':'][0]\n",
        "  semicolon_idx = words[';'][0]\n",
        "\n",
        "  punctuation_indices = [new_line_idx, comma_idx, period_idx, colon_idx, semicolon_idx]\n",
        "\n",
        "  data = list(filter(lambda x: x not in punctuation_indices, data))\n",
        "  return data\n",
        "\n",
        "def create_sequences(data, words, seq_len):\n",
        "  seq_list = []\n",
        "  pad_char_val = words['<unk>'][0]\n",
        "\n",
        "  num_padding = (len(data) + 1) % seq_len\n",
        "  if num_padding != 0:\n",
        "    pad_array = [pad_char_val] * (len(data) - num_padding)\n",
        "    data = data + pad_array\n",
        "\n",
        "  i = 0\n",
        "  while i < len(data) - seq_len:\n",
        "    start, stop = i, i + seq_len\n",
        "    inputs = torch.tensor(data[start:stop]).detach().to(device)\n",
        "    outputs = torch.tensor(data[start+1:stop+1]).detach().to(device)\n",
        "\n",
        "    seq = [inputs, outputs]\n",
        "    seq_list.append(seq)\n",
        "\n",
        "    i += seq_len\n",
        "\n",
        "  return seq_list\n"
      ],
      "metadata": {
        "id": "B_DBgDP-aODt"
      },
      "execution_count": 48,
      "outputs": []
    },
    {
      "cell_type": "markdown",
      "source": [
        "#### 2.3 Data Loader"
      ],
      "metadata": {
        "id": "36PY-v9OlQPj"
      }
    },
    {
      "cell_type": "code",
      "source": [
        "class NgramDataset(Dataset):\n",
        "    def __init__(self, ngrams_data):\n",
        "        self.ngrams_data_df = pd.DataFrame(ngrams_data, columns=(\"context\", \"label\"))\n",
        "        self.context = self.ngrams_data_df[\"context\"]\n",
        "        self.label = self.ngrams_data_df[\"label\"]\n",
        "\n",
        "    def __len__(self):\n",
        "        return len(self.label)\n",
        "\n",
        "    def __getitem__(self, idx):\n",
        "        return self.context[idx], self.label[idx]"
      ],
      "metadata": {
        "id": "x5Y6DAVSlTdz"
      },
      "execution_count": 49,
      "outputs": []
    },
    {
      "cell_type": "markdown",
      "metadata": {
        "id": "j_c28k49ZGJB"
      },
      "source": [
        "### 3. Model"
      ]
    },
    {
      "cell_type": "code",
      "source": [
        "# LSTM Model\n",
        "class LSTM(nn.Module):\n",
        "    def __init__(self, vocab, words, d_model, d_hidden, n_layers, dropout_rate, seq_len):\n",
        "        super().__init__()\n",
        "        \n",
        "        # Class Parameters\n",
        "        self.vocab = vocab\n",
        "        self.words = words\n",
        "        self.vocab_size = len(self.vocab)\n",
        "        self.n_layers = n_layers\n",
        "        self.d_hidden = d_hidden\n",
        "        self.d_model = d_model\n",
        "        self.dropout = dropout_rate\n",
        "        self.seq_len = seq_len\n",
        "\n",
        "        # Embedding Layers\n",
        "        self.input_embedding = nn.Embedding(self.vocab_size, self.d_model)\n",
        "\n",
        "        # Linear Layer\n",
        "        # self.fc1 = nn.Linear(seq_len * d_model, self.d_model)\n",
        "        self.fc1 = nn.Linear(self.d_hidden, self.vocab_size)\n",
        "\n",
        "        # LSTM Cell\n",
        "        self.lstm = nn.LSTM(input_size=self.d_model, hidden_size=self.d_hidden, num_layers=self.n_layers, dropout=self.dropout)\n",
        "        \n",
        "    # Forward\n",
        "    def forward(self, src, hc):\n",
        "        embeds = self.input_embedding(src).view(self.seq_len, -1, self.d_model)\n",
        "        # embeds = self.input_embedding(src).view(-1, self.batch_size, self.d_model * self.seq_len)\n",
        "        # x = self.fc1(embeds)\n",
        "        # preds, hc = self.lstm(x, hc)\n",
        "        preds, hc = self.lstm(embeds, hc)\n",
        "        preds = preds.view(-1, self.d_hidden)\n",
        "        logits = self.fc1(preds).view(-1, self.vocab_size)\n",
        "        return [logits, hc]\n",
        "    \n",
        "    def init_weights(self):\n",
        "        weight_range = 0.1\n",
        "        \n",
        "        self.input_embedding.weight.data.uniform_(-weight_range, weight_range)\n",
        "        self.fc1.weight.data.uniform_(-weight_range, weight_range)\n",
        "        self.fc1.bias.data.zero_()\n",
        "    \n",
        "    def detach_hidden(self, hc):\n",
        "        (hidden, cell) = hc\n",
        "        hidden = hidden.detach()\n",
        "        cell = cell.detach()\n",
        "        return [hidden, cell]"
      ],
      "metadata": {
        "id": "qLEDSVluwhv4"
      },
      "execution_count": 50,
      "outputs": []
    },
    {
      "cell_type": "markdown",
      "metadata": {
        "id": "jYKFbpx1ZGJC"
      },
      "source": [
        "### 4. Train"
      ]
    },
    {
      "cell_type": "markdown",
      "source": [
        "#### 4.1 Metrics"
      ],
      "metadata": {
        "id": "o_TvXMh9tfoK"
      }
    },
    {
      "cell_type": "code",
      "source": [],
      "metadata": {
        "id": "dxE2F9Kttiv6"
      },
      "execution_count": 50,
      "outputs": []
    },
    {
      "cell_type": "markdown",
      "source": [
        "#### 4.2 Train One Epoch"
      ],
      "metadata": {
        "id": "X-1H3ocWtjHE"
      }
    },
    {
      "cell_type": "code",
      "source": [
        "def lstm_train_one_epoch(model, optimizer, criterion, train_dataloader, valid_dataloader, batch_size, clip):\n",
        "\n",
        "  # Training Set\n",
        "  running_train_acc, running_train_loss = 0, 0\n",
        "  train_num_batches = len(train_dataloader)\n",
        "  \n",
        "  hc = (torch.randn(model.n_layers, batch_size, model.d_hidden).to(device),\n",
        "        torch.randn(model.n_layers, batch_size, model.d_hidden).to(device))\n",
        "\n",
        "  for batch_idx, (train_inputs, train_outputs) in enumerate(train_dataloader):\n",
        "    model.zero_grad()\n",
        "    hc = model.detach_hidden(hc)\n",
        "\n",
        "    train_logits, hc = model(train_inputs, hc)\n",
        "    train_logits = train_logits.reshape(-1, model.vocab_size)\n",
        "    train_outputs = train_outputs.reshape(-1)\n",
        "    train_preds = torch.argmax(train_logits, dim=1)\n",
        "    train_loss = criterion(train_logits, train_outputs)\n",
        "    train_acc = accuracy_score(np.array(train_outputs.cpu()), np.array(train_preds.cpu()))\n",
        "\n",
        "    running_train_loss += train_loss.item()\n",
        "    running_train_acc += train_acc\n",
        "\n",
        "    # if batch_idx % 1000 == 0: \n",
        "    #     print(f\"Train Batch: {batch_idx+1}\")\n",
        "    #     print(f\"Train Loss: {running_train_loss / (batch_idx+1)}\")\n",
        "    #     print(f\"Train Accuracy: {running_train_acc / (batch_idx+1)}\\n\")\n",
        "\n",
        "    train_loss.backward()\n",
        "    nn.utils.clip_grad_norm_(model.parameters(), clip)\n",
        "    optimizer.step()\n",
        "\n",
        "  train_av_acc = running_train_acc / train_num_batches\n",
        "  train_av_loss = running_train_loss / train_num_batches\n",
        "\n",
        "\n",
        "  # Valid Set\n",
        "  hc = (torch.randn(model.n_layers, batch_size, model.d_hidden).to(device),\n",
        "        torch.randn(model.n_layers, batch_size, model.d_hidden).to(device))\n",
        "\n",
        "  running_valid_acc, running_valid_loss = 0, 0\n",
        "  valid_num_batches = len(valid_dataloader)\n",
        "  for batch_idx, (valid_inputs, valid_outputs) in enumerate(valid_dataloader):\n",
        "    hc = model.detach_hidden(hc)\n",
        "\n",
        "    valid_logits, hc = model(valid_inputs, hc)\n",
        "    valid_logits = valid_logits.reshape(-1, model.vocab_size)\n",
        "    valid_outputs = valid_outputs.reshape(-1)\n",
        "    valid_preds = torch.argmax(valid_logits, dim=1)\n",
        "    valid_loss = criterion(valid_logits, valid_outputs)\n",
        "    valid_acc = accuracy_score(np.array(valid_outputs.cpu()), np.array(valid_preds.cpu()))\n",
        "\n",
        "    running_valid_loss += valid_loss.item()\n",
        "    running_valid_acc += valid_acc\n",
        "\n",
        "    # if batch_idx % 1000 == 0: \n",
        "    #     print(f\"Valid Batch: {batch_idx+1}\")\n",
        "    #     print(f\"Valid Loss: {running_valid_loss / (batch_idx+1)}\")\n",
        "    #     print(f\"Valid Accuracy: {running_valid_acc / (batch_idx+1)}\\n\")\n",
        "\n",
        "  valid_av_acc = running_valid_acc / valid_num_batches\n",
        "  valid_av_loss = running_valid_loss / valid_num_batches\n",
        "\n",
        "  return train_av_acc, train_av_loss, valid_av_acc, valid_av_loss\n",
        "\n"
      ],
      "metadata": {
        "id": "ZduUNCxp0e79"
      },
      "execution_count": 51,
      "outputs": []
    },
    {
      "cell_type": "markdown",
      "source": [
        "#### 4.3 Train Multiple Epochs"
      ],
      "metadata": {
        "id": "xr5JFOvZtztU"
      }
    },
    {
      "cell_type": "code",
      "source": [
        "def lstm_train_loop(model, optimizer, criterion, train_dataloader, valid_dataloader, batch_size, clip, epochs):\n",
        "  train_accuracies = []\n",
        "  train_losses = []\n",
        "  train_perplexities = []\n",
        "  valid_accuracies = []\n",
        "  valid_losses = []\n",
        "  valid_perplexities = []\n",
        "  epochs_list = list(range(epochs))\n",
        "\n",
        "  for i in epochs_list:\n",
        "    print(f\"Epoch: {i+1} /////////////////////////////////////\")\n",
        "    model.train(True)\n",
        "    train_av_acc, train_av_loss, valid_av_acc, valid_av_loss = lstm_train_one_epoch(model, optimizer, criterion, train_dataloader, valid_dataloader, batch_size, clip)\n",
        "    model.train(False)\n",
        "\n",
        "    train_perplexity = math.exp(train_av_loss)\n",
        "    valid_perplexity = math.exp(valid_av_loss)\n",
        "\n",
        "    print(f\"Accuracy: {train_av_acc}\")\n",
        "    print(f\"Loss: {train_av_loss}\")\n",
        "    print(f\"Perplexity: {train_perplexity}\\n\")\n",
        "\n",
        "    train_accuracies.append(train_av_acc)\n",
        "    train_losses.append(train_av_loss)\n",
        "    train_perplexities.append(train_perplexity)\n",
        "    valid_accuracies.append(valid_av_acc)\n",
        "    valid_losses.append(valid_av_loss)\n",
        "    valid_perplexities.append(valid_perplexity)\n",
        "\n",
        "  # Graph Accuracies and Loss\n",
        "  plot_data(x=epochs_list, y1=train_accuracies, y2=valid_accuracies, xlabel=\"Epochs\", ylabel=\"Accuracy\", title=\"Accuracy\", color1='b', color2='r', label1='Train', label2='Valid')\n",
        "  plot_data(x=epochs_list, y1=train_losses, y2=valid_losses, xlabel=\"Epochs\", ylabel=\"Loss\", title=\"Loss\", color1='b', color2='r', label1='Train', label2='Valid')\n",
        "  plot_data(x=epochs_list, y1=train_perplexities, y2=valid_perplexities, xlabel=\"Epochs\", ylabel=\"Perplexity\", title=\"Perplexity\", color1='b', color2='r', label1='Train', label2='Valid')\n"
      ],
      "metadata": {
        "id": "xR0-OmZtt3Ka"
      },
      "execution_count": 52,
      "outputs": []
    },
    {
      "cell_type": "markdown",
      "source": [
        "### 5. Validation"
      ],
      "metadata": {
        "id": "TFNHK9hdBQPP"
      }
    },
    {
      "cell_type": "markdown",
      "source": [
        "### 6. Test"
      ],
      "metadata": {
        "id": "6uf_bnxHBUk2"
      }
    },
    {
      "cell_type": "code",
      "source": [],
      "metadata": {
        "id": "S1_4bUazBX-C"
      },
      "execution_count": 52,
      "outputs": []
    },
    {
      "cell_type": "markdown",
      "metadata": {
        "id": "dyvATLTVZGJC"
      },
      "source": [
        "### 7. Running Code\n"
      ]
    },
    {
      "cell_type": "markdown",
      "metadata": {
        "id": "Nhl7N070ZGJC"
      },
      "source": [
        "#### 7.1 Loading Parameters"
      ]
    },
    {
      "cell_type": "code",
      "execution_count": 53,
      "metadata": {
        "id": "XhiUQME1ZGJC"
      },
      "outputs": [],
      "source": [
        "class Params:\n",
        "    def __init__(self, **kwargs):\n",
        "        for key, value in kwargs.items():\n",
        "            setattr(self, key, value)\n",
        "            \n",
        "model_map = {0: 'FFNN', 1: 'LSTM', 2: 'FFNN_CLASSIFY', 3: 'LSTM_CLASSIFY'}\n",
        "train_map = {0: 'data/real.train.tok', 1: 'data/fake.train.tok', 2: 'data/mix.train.tok'}\n",
        "valid_map = {0: 'data/real.valid.tok', 1: 'data/fake.valid.tok', 2: 'data/mix.valid.tok'}\n",
        "test_map = {0: 'data/real.test.tok', 1: 'data/fake.test.tok', 2: 'data/mix.test.tok', 3: 'data/blind.test.tok'}\n",
        "\n",
        "model_type = model_map[1]\n",
        "\n",
        "# Types of data\n",
        "train_type = train_map[2]\n",
        "valid_type = valid_map[2]\n",
        "test_type = test_map[2]\n",
        "\n",
        "args = {\n",
        "    \"d_model\": 512,\n",
        "    \"d_hidden\": 512,\n",
        "    \"n_layers\": 1,\n",
        "    \"batch_size\": 64,\n",
        "    \"seq_len\": 30,\n",
        "    \"printevery\": 5000,\n",
        "    \"window\": 3,\n",
        "    \"epochs\": 30,\n",
        "    \"lr\": 0.0001,\n",
        "    \"dropout\": 0.35,\n",
        "    \"clip\": 2.0,\n",
        "    \"model\": model_type,\n",
        "    \"savename\": model_type.lower(),\n",
        "    \"loadname\": model_type.lower(),\n",
        "    \"trainname\": train_type,\n",
        "    \"validname\": valid_type,\n",
        "    \"testname\": test_type\n",
        "}"
      ]
    },
    {
      "cell_type": "markdown",
      "metadata": {
        "id": "rWKB8pXJZGJC"
      },
      "source": [
        "#### 7.2 Main"
      ]
    },
    {
      "cell_type": "code",
      "execution_count": 54,
      "metadata": {
        "id": "YA7ol2ICZGJD"
      },
      "outputs": [],
      "source": [
        "# Main Function\n",
        "def main(args): \n",
        "    torch.manual_seed(0)\n",
        "    \n",
        "    # params\n",
        "    params = Params(**args)\n",
        "    train_name = params.trainname\n",
        "    valid_name = params.validname\n",
        "    test_name = params.testname\n",
        "    model_type = params.model\n",
        "    d_model = params.d_model\n",
        "    d_hidden = params.d_hidden\n",
        "    dropout = params.dropout\n",
        "    epochs = params.epochs\n",
        "    window = params.window\n",
        "    seq_len = params.seq_len\n",
        "    batch_size = params.batch_size\n",
        "    lr = params.lr\n",
        "    n_layers = params.n_layers\n",
        "    clip = params.clip\n",
        "\n",
        "\n",
        "    # Extract vocab and words\n",
        "    [train_vocab,train_words,train] = read_encode(train_name,[],{},[],3)\n",
        "    train_data = torch.tensor(train)\n",
        "\n",
        "    [valid_vocab,valid_words,valid] = read_encode(valid_name,[],{},[],3)\n",
        "    valid_data = torch.tensor(valid)\n",
        "\n",
        "    [test_vocab,test_words,test] = read_encode(test_name,[],{},[],3)\n",
        "    test_data = torch.tensor(test)\n",
        "\n",
        "    \n",
        "    if model_type == 'FFNN':\n",
        "      # Process Train Data\n",
        "      train_bios = split_bios(train_data, train_words)\n",
        "      train_bios = clean_bios(train_bios, train_words)\n",
        "      train_ngrams_data = create_ngrams(train_bios, train_words, window)\n",
        "\n",
        "      train_ngram_dataset = NgramDataset(train_ngrams_data)\n",
        "      train_ngram_dataloader = DataLoader(train_ngram_dataset, batch_size=batch_size, shuffle=True)\n",
        "\n",
        "      # Process Valid Data\n",
        "      valid_bios = split_bios(valid_data, valid_words)\n",
        "      valid_bios = clean_bios(valid_bios, valid_words)\n",
        "      valid_ngrams_data = create_ngrams(valid_bios, valid_words, window)\n",
        "\n",
        "      valid_ngram_dataset = NgramDataset(valid_ngrams_data)\n",
        "      valid_ngram_dataloader = DataLoader(valid_ngram_dataset, batch_size=batch_size, shuffle=True)\n",
        "\n",
        "      # Create and Train FFNN Model\n",
        "      ngram_model = FFNN(train_vocab, train_words, d_model, d_hidden, dropout, window).to(device)\n",
        "      optimizer = torch.optim.Adam(ngram_model.parameters(), lr=lr)\n",
        "      criterion = nn.CrossEntropyLoss()\n",
        "\n",
        "      train_loop(ngram_model, optimizer, criterion, train_ngram_dataloader, valid_ngram_dataloader, epochs)\n",
        "\n",
        "      torch.save(ngram_model.state_dict(), 'ffnn.pth')\n",
        "\n",
        "\n",
        "    if model_type == 'LSTM':\n",
        "      # Process Train Data\n",
        "      clean_train_data = clean_data(train_data, train_words)\n",
        "      train_sequences = create_sequences(clean_train_data, train_words, seq_len)\n",
        "      train_lstm_dataset = NgramDataset(train_sequences)\n",
        "      train_lstm_dataloader = DataLoader(train_lstm_dataset, batch_size=batch_size, drop_last=True)\n",
        "\n",
        "      # Process Valid Data\n",
        "      clean_valid_data = clean_data(valid_data, valid_words)\n",
        "      valid_sequences = create_sequences(clean_valid_data, valid_words, seq_len)\n",
        "      valid_lstm_dataset = NgramDataset(valid_sequences)\n",
        "      valid_lstm_dataloader = DataLoader(valid_lstm_dataset, batch_size=batch_size, drop_last=True)\n",
        "\n",
        "      # Create and Train LSTM Model\n",
        "      lstm_model = LSTM(train_vocab, train_words, d_model, d_hidden, n_layers, dropout, seq_len).to(device)\n",
        "      optimizer = torch.optim.Adam(lstm_model.parameters(), lr=lr)\n",
        "      criterion = nn.CrossEntropyLoss()\n",
        "\n",
        "      # lstm_train_one_epoch(lstm_model, optimizer, criterion, train_lstm_dataloader, valid_lstm_dataloader, batch_size, clip)\n",
        "      lstm_train_loop(lstm_model, optimizer, criterion, train_lstm_dataloader, valid_lstm_dataloader, batch_size, clip, epochs)\n",
        "\n",
        "      torch.save(lstm_model.state_dict(), 'lstm.pth')\n",
        "\n",
        "    if model_type == 'FFNN_CLASSIFY':\n",
        "        pass\n",
        "    if model_type == 'LSTM_CLASSIFY':\n",
        "        pass\n"
      ]
    },
    {
      "cell_type": "code",
      "execution_count": 55,
      "metadata": {
        "colab": {
          "base_uri": "https://localhost:8080/",
          "height": 1000
        },
        "id": "XW5ArczlZGJD",
        "outputId": "961723b9-75ba-4968-b211-431852093334"
      },
      "outputs": [
        {
          "output_type": "stream",
          "name": "stdout",
          "text": [
            "2742\n",
            "Epoch: 1 /////////////////////////////////////\n",
            "Train Batch: 1\n",
            "Train Loss: 10.513253211975098\n",
            "Train Accuracy: 0.0\n",
            "\n"
          ]
        },
        {
          "output_type": "stream",
          "name": "stderr",
          "text": [
            "/usr/local/lib/python3.8/dist-packages/torch/nn/modules/rnn.py:67: UserWarning: dropout option adds dropout after all but last recurrent layer, so non-zero dropout expects num_layers greater than 1, but got dropout=0.35 and num_layers=1\n",
            "  warnings.warn(\"dropout option adds dropout after all but last \"\n"
          ]
        },
        {
          "output_type": "stream",
          "name": "stdout",
          "text": [
            "Train Batch: 1001\n",
            "Train Loss: 10.36211656976294\n",
            "Train Accuracy: 0.0013772685647685642\n",
            "\n",
            "Train Batch: 2001\n",
            "Train Loss: 9.43150334522642\n",
            "Train Accuracy: 0.002156734132933532\n",
            "\n",
            "Valid Batch: 1\n",
            "Valid Loss: 9.688337326049805\n",
            "Valid Accuracy: 0.06041666666666667\n",
            "\n",
            "Accuracy: 0.2648853482859227\n",
            "Loss: 8.648518526319341\n",
            "Perplexity: 5701.69356477449\n",
            "\n",
            "Epoch: 2 /////////////////////////////////////\n",
            "Train Batch: 1\n",
            "Train Loss: 9.168209075927734\n",
            "Train Accuracy: 0.06510416666666667\n",
            "\n",
            "Train Batch: 1001\n",
            "Train Loss: 8.393913828766905\n",
            "Train Accuracy: 0.03250291375291374\n",
            "\n",
            "Train Batch: 2001\n",
            "Train Loss: 7.256399381047544\n",
            "Train Accuracy: 0.14892944152923537\n",
            "\n",
            "Valid Batch: 1\n",
            "Valid Loss: 8.710926055908203\n",
            "Valid Accuracy: 0.0703125\n",
            "\n",
            "Accuracy: 0.37892334518599563\n",
            "Loss: 6.419105438747865\n",
            "Perplexity: 613.454096332599\n",
            "\n",
            "Epoch: 3 /////////////////////////////////////\n",
            "Train Batch: 1\n",
            "Train Loss: 7.747134685516357\n",
            "Train Accuracy: 0.06822916666666666\n",
            "\n",
            "Train Batch: 1001\n",
            "Train Loss: 7.369341903633171\n",
            "Train Accuracy: 0.0427582833832834\n",
            "\n",
            "Train Batch: 2001\n",
            "Train Loss: 6.004525536718755\n",
            "Train Accuracy: 0.333232862735299\n",
            "\n",
            "Valid Batch: 1\n",
            "Valid Loss: 8.526458740234375\n",
            "Valid Accuracy: 0.07083333333333333\n",
            "\n",
            "Accuracy: 0.5134204807926088\n",
            "Loss: 4.9962613405231835\n",
            "Perplexity: 147.85932877541433\n",
            "\n"
          ]
        },
        {
          "output_type": "display_data",
          "data": {
            "text/plain": [
              "<Figure size 432x288 with 1 Axes>"
            ],
            "image/png": "[encoded data removed]"
          },
          "metadata": {
            "needs_background": "light"
          }
        },
        {
          "output_type": "display_data",
          "data": {
            "text/plain": [
              "<Figure size 432x288 with 1 Axes>"
            ],
            "image/png": "[encoded data removed]"
          },
          "metadata": {
            "needs_background": "light"
          }
        },
        {
          "output_type": "display_data",
          "data": {
            "text/plain": [
              "<Figure size 432x288 with 1 Axes>"
            ],
            "image/png": "[encoded data removed]"
          },
          "metadata": {
            "needs_background": "light"
          }
        }
      ],
      "source": [
        "main(args)"
      ]
    }
  ],
  "metadata": {
    "kernelspec": {
      "display_name": "Python 3",
      "language": "python",
      "name": "python3"
    },
    "language_info": {
      "name": "python",
      "version": "3.9.12"
    },
    "orig_nbformat": 4,
    "vscode": {
      "interpreter": {
        "hash": "b0fa6594d8f4cbf19f97940f81e996739fb7646882a419484c72d19e05852a7e"
      }
    },
    "colab": {
      "provenance": []
    },
    "gpuClass": "standard",
    "accelerator": "GPU"
  },
  "nbformat": 4,
  "nbformat_minor": 0
}