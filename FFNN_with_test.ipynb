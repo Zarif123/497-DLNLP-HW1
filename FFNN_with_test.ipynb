{
  "cells": [
    {
      "cell_type": "markdown",
      "metadata": {
        "id": "fdwVctTdZGI-"
      },
      "source": [
        "### 1. Set-up"
      ]
    },
    {
      "cell_type": "markdown",
      "source": [
        "#### 1.1 Imports"
      ],
      "metadata": {
        "id": "83Gy5-2fxt5K"
      }
    },
    {
      "cell_type": "code",
      "execution_count": 184,
      "metadata": {
        "id": "HKVapGxaZGI_"
      },
      "outputs": [],
      "source": [
        "# Imports\n",
        "from torch.nn.utils.rnn import pad_sequence\n",
        "from torch.utils.data import Dataset\n",
        "from torch.utils.data import DataLoader\n",
        "from sklearn.metrics import confusion_matrix, ConfusionMatrixDisplay, accuracy_score\n",
        "import torch\n",
        "import torch.nn.functional as F\n",
        "import torch.nn as nn\n",
        "import torch.optim as optim\n",
        "import math\n",
        "import time\n",
        "import numpy as np\n",
        "import sys\n",
        "import argparse\n",
        "import os\n",
        "import matplotlib.pyplot as plt\n",
        "import pandas as pd\n",
        "import math\n",
        "import seaborn as sns"
      ]
    },
    {
      "cell_type": "markdown",
      "source": [
        "#### 1.2 CUDA"
      ],
      "metadata": {
        "id": "3yNwZTYKxvb2"
      }
    },
    {
      "cell_type": "code",
      "source": [
        "device = torch.device('cuda' if torch.cuda.is_available() else 'cpu')"
      ],
      "metadata": {
        "id": "VXD7OSs6xx57"
      },
      "execution_count": 185,
      "outputs": []
    },
    {
      "cell_type": "markdown",
      "metadata": {
        "id": "8pPI3JZAZGJA"
      },
      "source": [
        "### 2. Data Pre-Processing"
      ]
    },
    {
      "cell_type": "markdown",
      "metadata": {
        "id": "rdtpPAqyZGJA"
      },
      "source": [
        "#### 2.1 Helper Functions"
      ]
    },
    {
      "cell_type": "code",
      "execution_count": 186,
      "metadata": {
        "id": "7EZfC-ZVZGJA"
      },
      "outputs": [],
      "source": [
        "# Encoding and decoding\n",
        "def decode(vocab,corpus):\n",
        "    \n",
        "    text = ''\n",
        "    for i in range(len(corpus)):\n",
        "        wID = corpus[i]\n",
        "        text = text + vocab[wID] + ' '\n",
        "    return(text)\n",
        "\n",
        "def encode(words,text):\n",
        "    corpus = []\n",
        "    tokens = text.split(' ')\n",
        "    for t in tokens:\n",
        "        try:\n",
        "            wID = words[t][0]\n",
        "        except:\n",
        "            wID = words['<unk>'][0]\n",
        "        corpus.append(wID)\n",
        "    return(corpus)\n",
        "\n",
        "def read_encode(file_name,vocab,words,corpus,threshold):\n",
        "    \n",
        "    wID = len(vocab)\n",
        "    \n",
        "    if threshold > -1:\n",
        "        with open(file_name,'rt', encoding='utf8') as f:\n",
        "            for line in f:\n",
        "                line = line.replace('\\n','')\n",
        "                tokens = line.split(' ')\n",
        "                for t in tokens:\n",
        "                    try:\n",
        "                        elem = words[t]\n",
        "                    except:\n",
        "                        elem = [wID,0]\n",
        "                        vocab.append(t)\n",
        "                        wID = wID + 1\n",
        "                    elem[1] = elem[1] + 1\n",
        "                    words[t] = elem\n",
        "\n",
        "        temp = words\n",
        "        words = {}\n",
        "        vocab = []\n",
        "        wID = 0\n",
        "        words['<unk>'] = [wID,100]\n",
        "        vocab.append('<unk>')\n",
        "        for t in temp:\n",
        "            if temp[t][1] >= threshold:\n",
        "                vocab.append(t)\n",
        "                wID = wID + 1\n",
        "                words[t] = [wID,temp[t][1]]\n",
        "            \n",
        "                    \n",
        "    with open(file_name,'rt', encoding='utf8') as f:\n",
        "        for line in f:\n",
        "            line = line.replace('\\n','')\n",
        "            tokens = line.split(' ')\n",
        "            for t in tokens:\n",
        "                try:\n",
        "                    wID = words[t][0]\n",
        "                except:\n",
        "                    wID = words['<unk>'][0]\n",
        "                corpus.append(wID)\n",
        "                \n",
        "    return [vocab,words,corpus]\n",
        "\n",
        "def plot_data(x, y1, y2, xlabel, ylabel, title, color1, color2, label1, label2):\n",
        "    plt.plot(x, y1, color1, label=label1)\n",
        "    plt.plot(x, y2, color2, label=label2)\n",
        "    plt.xlabel(xlabel)\n",
        "    plt.ylabel(ylabel)\n",
        "    plt.title(title)\n",
        "    plt.legend()\n",
        "    plt.show()"
      ]
    },
    {
      "cell_type": "markdown",
      "source": [
        "#### 2.2 Create ngrams"
      ],
      "metadata": {
        "id": "LZK9fYthaOit"
      }
    },
    {
      "cell_type": "code",
      "source": [
        "def split_bios(data, words):\n",
        "  fake_val, real_val = words[\"[FAKE]\"][0], words[\"[REAL]\"][0]\n",
        "  fake_list = (data == fake_val)\n",
        "  real_list = (data == real_val)\n",
        "  target_indices = (fake_list + real_list).nonzero()\n",
        "  bios_list = []\n",
        "  start_i = 0\n",
        "\n",
        "  for end_i in target_indices:\n",
        "    bio = data[start_i:end_i+1]\n",
        "    bios_list.append(bio)\n",
        "\n",
        "    start_i = end_i + 1\n",
        "\n",
        "  return bios_list\n",
        "\n",
        "def clean_bios(bios, words):\n",
        "  for bio_i in range(len(bios)):\n",
        "    # Remove new lines and punctuation\n",
        "    new_line_idx = words[''][0]\n",
        "    comma_idx = words[','][0]\n",
        "    period_idx = words['.'][0]\n",
        "    colon_idx = words[':'][0]\n",
        "    semicolon_idx = words[';'][0]\n",
        "\n",
        "    punctuation_indices = [new_line_idx, comma_idx, period_idx, colon_idx, semicolon_idx]\n",
        "\n",
        "    bios[bio_i] = list(filter(lambda x: x not in punctuation_indices, bios[bio_i]))\n",
        "\n",
        "  return bios\n",
        "\n",
        "def create_ngrams(bios, words, ngram_size):\n",
        "  ngram_list = []\n",
        "\n",
        "  for bio_i, bio in enumerate(bios):\n",
        "    bio_len = len(bio)\n",
        "    i = 0\n",
        "    \n",
        "    while i < bio_len - ngram_size:\n",
        "      start, stop = i, i+ngram_size\n",
        "      context = torch.tensor(bio[start:stop]).detach().to(device)\n",
        "      label = torch.tensor(bio[stop]).detach().to(device)\n",
        "\n",
        "      ngram = [context, label]\n",
        "      ngram_list.append(ngram)\n",
        "\n",
        "      i += 1\n",
        "\n",
        "  return ngram_list\n"
      ],
      "metadata": {
        "id": "B_DBgDP-aODt"
      },
      "execution_count": 187,
      "outputs": []
    },
    {
      "cell_type": "markdown",
      "source": [
        "#### 2.3 Data Loader"
      ],
      "metadata": {
        "id": "36PY-v9OlQPj"
      }
    },
    {
      "cell_type": "code",
      "source": [
        "class NgramDataset(Dataset):\n",
        "    def __init__(self, ngrams_data):\n",
        "        self.ngrams_data_df = pd.DataFrame(ngrams_data, columns=(\"context\", \"label\"))\n",
        "        self.context = self.ngrams_data_df[\"context\"]\n",
        "        self.label = self.ngrams_data_df[\"label\"]\n",
        "\n",
        "    def __len__(self):\n",
        "        return len(self.label)\n",
        "\n",
        "    def __getitem__(self, idx):\n",
        "        return self.context[idx], self.label[idx]"
      ],
      "metadata": {
        "id": "x5Y6DAVSlTdz"
      },
      "execution_count": 188,
      "outputs": []
    },
    {
      "cell_type": "markdown",
      "metadata": {
        "id": "j_c28k49ZGJB"
      },
      "source": [
        "### 3. Model"
      ]
    },
    {
      "cell_type": "code",
      "execution_count": 189,
      "metadata": {
        "id": "9xj9GuPCZGJB"
      },
      "outputs": [],
      "source": [
        "# FeedForward Model\n",
        "class FFNN(nn.Module):\n",
        "    def __init__(self, vocab, words, d_model, d_hidden, dropout, ngram_size):\n",
        "        super().__init__() \n",
        "    \n",
        "        # Class parameters\n",
        "        self.vocab = vocab\n",
        "        self.words = words\n",
        "        self.vocab_size = len(self.vocab)\n",
        "        self.d_model = d_model\n",
        "        self.d_hidden = d_hidden\n",
        "        self.ngram_size = ngram_size\n",
        "        \n",
        "        # Dropout\n",
        "        self.dropout = nn.Dropout(p=dropout)\n",
        "\n",
        "        # Embedding Layer\n",
        "        self.input_embedding = nn.Embedding(self.vocab_size, self.d_model)\n",
        "\n",
        "        # Linear Layers\n",
        "        self.fc1 = nn.Linear(ngram_size * d_model, self.d_model)\n",
        "        self.output_embedding = nn.Linear(self.d_model, self.vocab_size)\n",
        "\n",
        "        # Nonlinear Layer\n",
        "        self.activation = nn.ReLU()\n",
        "\n",
        "        # Setting weights\n",
        "        self.init_weights()\n",
        "                \n",
        "    # Initialize weights for foward layer\n",
        "    def init_weights(self):\n",
        "        weight_range = 0.1\n",
        "        \n",
        "        self.input_embedding.weight.data.uniform_(-weight_range, weight_range)\n",
        "        self.fc1.weight.data.uniform_(-weight_range, weight_range)\n",
        "        self.fc1.bias.data.zero_()\n",
        "\n",
        "    # Forward\n",
        "    def forward(self, src):\n",
        "        # Embeddings are fed into the forward layer\n",
        "        embeds = self.input_embedding(src).view(-1, self.d_model * self.ngram_size)\n",
        "        x = self.dropout(self.activation(self.fc1(embeds)))\n",
        "        x = self.output_embedding(x).view(-1, self.vocab_size)\n",
        "        x = F.log_softmax(x, dim=1)\n",
        "        return x"
      ]
    },
    {
      "cell_type": "markdown",
      "metadata": {
        "id": "jYKFbpx1ZGJC"
      },
      "source": [
        "### 4. Train"
      ]
    },
    {
      "cell_type": "markdown",
      "source": [
        "#### 4.1 Metrics"
      ],
      "metadata": {
        "id": "o_TvXMh9tfoK"
      }
    },
    {
      "cell_type": "code",
      "source": [],
      "metadata": {
        "id": "dxE2F9Kttiv6"
      },
      "execution_count": 189,
      "outputs": []
    },
    {
      "cell_type": "markdown",
      "source": [
        "#### 4.2 Train One Epoch"
      ],
      "metadata": {
        "id": "X-1H3ocWtjHE"
      }
    },
    {
      "cell_type": "code",
      "execution_count": 190,
      "metadata": {
        "id": "cSlmxKJbZGJC"
      },
      "outputs": [],
      "source": [
        "def train_one_epoch(model, optimizer, criterion, train_dataloader, valid_dataloader):\n",
        "\n",
        "  # Training Set\n",
        "  running_train_acc, running_train_loss = 0, 0\n",
        "  train_num_batches = len(train_dataloader)\n",
        "  \n",
        "  for batch_idx, (train_contexts, train_labels) in enumerate(train_dataloader):\n",
        "      model.zero_grad()\n",
        "\n",
        "      train_logits = model(train_contexts)\n",
        "      train_preds = torch.argmax(train_logits, dim=1)\n",
        "      train_loss = criterion(train_logits, train_labels)\n",
        "      train_acc = accuracy_score(np.array(train_labels.cpu()), np.array(train_preds.cpu()))\n",
        "\n",
        "      running_train_loss += train_loss.item()\n",
        "      running_train_acc += train_acc\n",
        "\n",
        "      # if batch_idx % 10000 == 0: \n",
        "      #   print(f\"Batch: {batch_idx+1}\")\n",
        "      #   print(f\"Loss: {running_train_loss / (batch_idx+1)}\")\n",
        "      #   print(f\"Accuracy: {running_train_acc / (batch_idx+1)}\\n\")\n",
        "\n",
        "      train_loss.backward()\n",
        "      optimizer.step()\n",
        "\n",
        "  train_av_acc = running_train_acc / train_num_batches\n",
        "  train_av_loss = running_train_loss / train_num_batches\n",
        "\n",
        "  # Validation Set\n",
        "  running_valid_acc, running_valid_loss = 0, 0\n",
        "  valid_num_batches = len(valid_dataloader)\n",
        "  for batch_idx, (valid_contexts, valid_labels) in enumerate(valid_dataloader):\n",
        "    \n",
        "    valid_logits = model(valid_contexts)\n",
        "    valid_preds = torch.argmax(valid_logits, dim=1)\n",
        "    valid_loss = criterion(valid_logits, valid_labels)\n",
        "    valid_acc = accuracy_score(np.array(valid_labels.cpu()), np.array(valid_preds.cpu()))\n",
        "\n",
        "    running_valid_loss += valid_loss.item()\n",
        "    running_valid_acc += valid_acc\n",
        "\n",
        "  valid_av_acc = running_valid_acc / valid_num_batches\n",
        "  valid_av_loss = running_valid_loss / valid_num_batches\n",
        "\n",
        "  return train_av_acc, train_av_loss, valid_av_acc, valid_av_loss\n"
      ]
    },
    {
      "cell_type": "markdown",
      "source": [
        "#### 4.3 Train Multiple Epochs"
      ],
      "metadata": {
        "id": "xr5JFOvZtztU"
      }
    },
    {
      "cell_type": "code",
      "source": [
        "def train_loop(model, optimizer, criterion, train_dataloader, valid_dataloader, epochs):\n",
        "  train_accuracies = []\n",
        "  train_losses = []\n",
        "  valid_accuracies = []\n",
        "  valid_losses = []\n",
        "  epochs_list = list(range(epochs))\n",
        "\n",
        "  for i in epochs_list:\n",
        "    print(f\"Epoch: {i+1} /////////////////////////////////////\")\n",
        "    model.train(True)\n",
        "    train_av_acc, train_av_loss, valid_av_acc, valid_av_loss = train_one_epoch(model, optimizer, criterion, train_dataloader, valid_dataloader)\n",
        "    model.train(False)\n",
        "\n",
        "    train_perplexity = math.exp(train_av_loss)\n",
        "    valid_perplexity = math.exp(valid_av_loss)\n",
        "\n",
        "    print(f\"Train Accuracy: {train_av_acc}\")\n",
        "    print(f\"Train Loss: {train_av_loss}\")\n",
        "    print(f\"Train Perplexity: {train_perplexity}\\n\")\n",
        "\n",
        "    print(f\"Valid Accuracy: {valid_av_acc}\")\n",
        "    print(f\"Valid Loss: {valid_av_loss}\")\n",
        "    print(f\"Valid Perplexity: {valid_perplexity}\\n\")\n",
        "\n",
        "    train_accuracies.append(train_av_acc)\n",
        "    train_losses.append(train_av_loss)\n",
        "    valid_accuracies.append(valid_av_acc)\n",
        "    valid_losses.append(valid_av_loss)\n",
        "\n",
        "  print(train_accuracies)\n",
        "  print(train_losses)\n",
        "  print(valid_accuracies)\n",
        "  print(valid_losses)\n",
        "  print(epochs_list)\n",
        "  # Graph Accuracies and Loss\n",
        "  plot_data(x=epochs_list, y1=train_accuracies, y2=valid_accuracies, xlabel=\"Epochs\", ylabel=\"Accuracy\", title=\"Accuracy\", color1='r', color2='b', label1='Train', label2='Valid')\n",
        "  plot_data(x=epochs_list, y1=train_losses, y2=valid_losses, xlabel=\"Epochs\", ylabel=\"Loss\", title=\"Loss\", color1='r', color2='b', label1='Train', label2='Valid')"
      ],
      "metadata": {
        "id": "xR0-OmZtt3Ka"
      },
      "execution_count": 191,
      "outputs": []
    },
    {
      "cell_type": "markdown",
      "source": [
        "### 5. Validation"
      ],
      "metadata": {
        "id": "TFNHK9hdBQPP"
      }
    },
    {
      "cell_type": "markdown",
      "source": [
        "### 6. Test"
      ],
      "metadata": {
        "id": "6uf_bnxHBUk2"
      }
    },
    {
      "cell_type": "code",
      "source": [
        "def create_histogram(model, dataloader, ngram_size, words):\n",
        "  bio_len = 1\n",
        "  fake_bio_probs, real_bio_probs = [], []\n",
        "  total_bio_prob = 0\n",
        "  MAX_VAL = 25000\n",
        "\n",
        "  fake_val, real_val = words[\"[FAKE]\"][0], words[\"[REAL]\"][0]  \n",
        "\n",
        "  for batch_idx, (context, label) in enumerate(dataloader):\n",
        "    probs = model(context).squeeze()\n",
        "    # probs = F.softmax(probs)\n",
        "    label_prob = probs[label]\n",
        "\n",
        "    if batch_idx % 50000 == 0: \n",
        "      print(f\"{batch_idx}/{len(dataloader)}\")\n",
        "      print(label_prob)\n",
        "    if label_prob == 0:\n",
        "      label_prob += 0.00000001\n",
        "\n",
        "    # pseudo_prob = -math.log(label_prob)\n",
        "    pseudo_prob = -label_prob\n",
        "    total_bio_prob += pseudo_prob\n",
        "\n",
        "    if label == fake_val:\n",
        "      bio_prob = total_bio_prob / bio_len\n",
        "      if bio_prob < MAX_VAL: fake_bio_probs.append(bio_prob)\n",
        "      bio_len = 1\n",
        "      total_bio_probs = 0\n",
        "    elif label == real_val:\n",
        "      bio_prob = total_bio_prob / bio_len\n",
        "      if bio_prob < MAX_VAL: real_bio_probs.append(bio_prob)\n",
        "      bio_len = 1\n",
        "      total_bio_probs = 0\n",
        "    else:\n",
        "      bio_len += 1\n",
        "\n",
        "  sns.set(style=\"darkgrid\")\n",
        " \n",
        "  print(fake_bio_probs)\n",
        "  print(real_bio_probs)\n",
        "\n",
        "  plt.figure(0)\n",
        "  sns.kdeplot(np.array(fake_bio_probs))\n",
        "  sns.kdeplot(np.array(real_bio_probs))\n",
        "  plt.xlabel(\"Negative Average Log Probs\")\n",
        "  plt.ylabel(\"Density\")\n",
        "  plt.show()\n",
        "\n",
        "  plt.figure(1)\n",
        "  plt.hist(fake_bio_probs, label='Fakes', alpha=0.5, bins=100)\n",
        "  plt.hist(real_bio_probs, label='Reals', alpha=0.5, bins=100)\n",
        "  plt.legend(loc='upper left')\n",
        "  plt.xlabel(\"Negative Average Log Probs\")\n",
        "  plt.ylabel(\"Frequency\")\n",
        "  plt.show()"
      ],
      "metadata": {
        "id": "S1_4bUazBX-C"
      },
      "execution_count": 192,
      "outputs": []
    },
    {
      "cell_type": "code",
      "source": [
        "def ffnn_test_model(model, dataloader, words, threshold):\n",
        "  bio_len = 1\n",
        "  truth, preds = [], []\n",
        "  total_bio_prob = 0\n",
        "\n",
        "  fake_val, real_val = words[\"[FAKE]\"][0], words[\"[REAL]\"][0]  \n",
        "\n",
        "  for batch_idx, (context, label) in enumerate(dataloader):\n",
        "    probs = model(context).squeeze()\n",
        "    # probs = F.softmax(probs)\n",
        "    label_prob = probs[label]\n",
        "\n",
        "    if label_prob == 0:\n",
        "      label_prob += 0.00000001\n",
        "\n",
        "    # pseudo_prob = -math.log(label_prob)\n",
        "    pseudo_prob = -label_prob\n",
        "    total_bio_prob += pseudo_prob\n",
        "\n",
        "    if label == fake_val or label == real_val:\n",
        "      truth.append(label.item())\n",
        "\n",
        "      bio_prob = total_bio_prob / bio_len\n",
        "      if bio_prob < threshold:\n",
        "        preds.append(real_val)\n",
        "      else:\n",
        "        preds.append(fake_val)\n",
        "\n",
        "      bio_len = 1\n",
        "      total_bio_probs = 0\n",
        "    else:\n",
        "      bio_len += 1\n",
        "\n",
        "  acc = accuracy_score(np.array(truth), np.array(preds))\n",
        "  confusion_mat = confusion_matrix(truth, preds)\n",
        "  disp = ConfusionMatrixDisplay(confusion_matrix=confusion_mat, display_labels=[\"REAL\", \"FAKE\"])\n",
        "  disp.plot()\n",
        "  plt.show()\n",
        "  print(f\"Test Accuracy: {acc}\")\n",
        "    "
      ],
      "metadata": {
        "id": "H3wJyrBq9b2B"
      },
      "execution_count": 193,
      "outputs": []
    },
    {
      "cell_type": "markdown",
      "metadata": {
        "id": "dyvATLTVZGJC"
      },
      "source": [
        "### 7. Running Code\n"
      ]
    },
    {
      "cell_type": "markdown",
      "metadata": {
        "id": "Nhl7N070ZGJC"
      },
      "source": [
        "#### 7.1 Loading Parameters"
      ]
    },
    {
      "cell_type": "code",
      "execution_count": 194,
      "metadata": {
        "id": "XhiUQME1ZGJC"
      },
      "outputs": [],
      "source": [
        "class Params:\n",
        "    def __init__(self, **kwargs):\n",
        "        for key, value in kwargs.items():\n",
        "            setattr(self, key, value)\n",
        "            \n",
        "model_map = {0: 'FFNN', 1: 'LSTM', 2: 'FFNN_CLASSIFY', 3: 'LSTM_CLASSIFY'}\n",
        "train_map = {0: 'data/real.train.tok', 1: 'data/fake.train.tok', 2: 'data/mix.train.tok'}\n",
        "valid_map = {0: 'data/real.valid.tok', 1: 'data/fake.valid.tok', 2: 'data/mix.valid.tok'}\n",
        "test_map = {0: 'data/real.test.tok', 1: 'data/fake.test.tok', 2: 'data/mix.test.tok', 3: 'data/blind.test.tok'}\n",
        "\n",
        "model_type = model_map[2]\n",
        "\n",
        "# Types of data\n",
        "train_type = train_map[2]\n",
        "valid_type = valid_map[2]\n",
        "test_type = test_map[2]\n",
        "\n",
        "args = {\n",
        "    \"d_model\": 64,\n",
        "    \"d_hidden\": 64,\n",
        "    \"n_layers\": 3,\n",
        "    \"batch_size\": 64,\n",
        "    \"seq_len\": 30,\n",
        "    \"printevery\": 5000,\n",
        "    \"window\": 3,\n",
        "    \"epochs\": 5,\n",
        "    \"lr\": 0.0001,\n",
        "    \"dropout\": 0.35,\n",
        "    \"clip\": 2.0,\n",
        "    \"model\": model_type,\n",
        "    \"savename\": model_type.lower(),\n",
        "    \"loadname\": model_type.lower(),\n",
        "    \"trainname\": train_type,\n",
        "    \"validname\": valid_type,\n",
        "    \"testname\": test_type\n",
        "}"
      ]
    },
    {
      "cell_type": "markdown",
      "metadata": {
        "id": "rWKB8pXJZGJC"
      },
      "source": [
        "#### 7.2 Main"
      ]
    },
    {
      "cell_type": "code",
      "execution_count": 195,
      "metadata": {
        "id": "YA7ol2ICZGJD"
      },
      "outputs": [],
      "source": [
        "# Main Function\n",
        "def main(args): \n",
        "    torch.manual_seed(0)\n",
        "    \n",
        "    # params\n",
        "    params = Params(**args)\n",
        "    train_name = params.trainname\n",
        "    valid_name = params.validname\n",
        "    test_name = params.testname\n",
        "    model_type = params.model\n",
        "    d_model = params.d_model\n",
        "    d_hidden = params.d_hidden\n",
        "    dropout = params.dropout\n",
        "    epochs = params.epochs\n",
        "    window = params.window\n",
        "    batch_size = params.batch_size\n",
        "    lr = params.lr\n",
        "\n",
        "    # Extract vocab and words\n",
        "    [train_vocab,train_words,train] = read_encode(train_name,[],{},[],3)\n",
        "    train_data = torch.tensor(train)\n",
        "\n",
        "    [valid_vocab,valid_words,valid] = read_encode(valid_name,[],{},[],3)\n",
        "    valid_data = torch.tensor(valid)\n",
        "\n",
        "    [test_vocab,test_words,test] = read_encode(test_name,[],{},[],3)\n",
        "    test_data = torch.tensor(test)\n",
        "    \n",
        "    if model_type == 'FFNN':\n",
        "\n",
        "      # Process Train Data\n",
        "      train_bios = split_bios(train_data, train_words)\n",
        "      train_bios = clean_bios(train_bios, train_words)\n",
        "      train_ngrams_data = create_ngrams(train_bios, train_words, window)\n",
        "\n",
        "      train_ngram_dataset = NgramDataset(train_ngrams_data)\n",
        "      train_ngram_dataloader = DataLoader(train_ngram_dataset, batch_size=batch_size)\n",
        "\n",
        "      # Process Valid Data\n",
        "      valid_bios = split_bios(valid_data, valid_words)\n",
        "      valid_bios = clean_bios(valid_bios, valid_words)\n",
        "      valid_ngrams_data = create_ngrams(valid_bios, valid_words, window)\n",
        "\n",
        "      valid_ngram_dataset = NgramDataset(valid_ngrams_data)\n",
        "      valid_ngram_dataloader = DataLoader(valid_ngram_dataset, batch_size=batch_size)\n",
        "\n",
        "      ngram_model = FFNN(train_vocab, train_words, d_model, d_hidden, dropout, window).to(device)\n",
        "      optimizer = torch.optim.Adam(ngram_model.parameters(), lr=lr)\n",
        "      criterion = nn.NLLLoss()\n",
        "\n",
        "      train_loop(ngram_model, optimizer, criterion, train_ngram_dataloader, valid_ngram_dataloader, epochs)\n",
        "\n",
        "      torch.save(ngram_model.state_dict(), 'ffnn.pth')\n",
        "\n",
        "\n",
        "    if model_type == 'LSTM':\n",
        "        pass\n",
        "    if model_type == 'FFNN_CLASSIFY':\n",
        "      valid_bios = split_bios(valid_data, valid_words)\n",
        "      valid_bios = clean_bios(valid_bios, valid_words)\n",
        "      valid_ngrams_data = create_ngrams(valid_bios, valid_words, window)\n",
        "\n",
        "      valid_ngram_dataset = NgramDataset(valid_ngrams_data)\n",
        "      valid_ngram_dataloader = DataLoader(valid_ngram_dataset, batch_size=1)\n",
        "\n",
        "      test_bios = split_bios(test_data, test_words)\n",
        "      test_bios = clean_bios(test_bios, test_words)\n",
        "      test_ngrams_data = create_ngrams(test_bios, test_words, window)\n",
        "\n",
        "      test_ngram_dataset = NgramDataset(test_ngrams_data)\n",
        "      test_ngram_dataloader = DataLoader(test_ngram_dataset, batch_size=1)\n",
        "\n",
        "      ngram_model = FFNN(train_vocab, train_words, d_model, d_hidden, dropout, window).to(device)\n",
        "      ngram_model.load_state_dict(torch.load('ffnn.pth', map_location=torch.device('cpu')))\n",
        "      ngram_model.eval()\n",
        "        \n",
        "      create_histogram(ngram_model, valid_ngram_dataloader, window, valid_words)\n",
        "      threshold = 4500\n",
        "      ffnn_test_model(ngram_model, test_ngram_dataloader, test_words, threshold)\n",
        "    if model_type == 'LSTM_CLASSIFY':\n",
        "        pass\n"
      ]
    },
    {
      "cell_type": "code",
      "execution_count": 196,
      "metadata": {
        "id": "XW5ArczlZGJD",
        "outputId": "8f109400-31c3-4d2c-d07a-818607771d7b",
        "colab": {
          "base_uri": "https://localhost:8080/",
          "height": 1000
        }
      },
      "outputs": [
        {
          "output_type": "stream",
          "name": "stderr",
          "text": [
            "<ipython-input-187-e90a221de419>:42: UserWarning: To copy construct from a tensor, it is recommended to use sourceTensor.clone().detach() or sourceTensor.clone().detach().requires_grad_(True), rather than torch.tensor(sourceTensor).\n",
            "  label = torch.tensor(bio[stop]).detach().to(device)\n",
            "<ipython-input-192-3bf368307b1c>:11: UserWarning: Implicit dimension choice for softmax has been deprecated. Change the call to include dim=X as an argument.\n",
            "  probs = F.softmax(probs)\n"
          ]
        },
        {
          "output_type": "stream",
          "name": "stdout",
          "text": [
            "0/317832\n",
            "tensor([0.9999], grad_fn=<IndexBackward0>)\n",
            "50000/317832\n",
            "tensor([7.3625e-05], grad_fn=<IndexBackward0>)\n",
            "100000/317832\n",
            "tensor([0.0002], grad_fn=<IndexBackward0>)\n",
            "150000/317832\n",
            "tensor([3.7525e-06], grad_fn=<IndexBackward0>)\n",
            "200000/317832\n",
            "tensor([0.0005], grad_fn=<IndexBackward0>)\n",
            "250000/317832\n",
            "tensor([7.4455e-07], grad_fn=<IndexBackward0>)\n",
            "300000/317832\n",
            "tensor([6.2889e-05], grad_fn=<IndexBackward0>)\n",
            "[10.117010687023384, 30.99665937343042, 30.06915750124437, 92.30977853805608, 83.81285973956301, 145.18221552646796, 207.80639863925916, 243.49085899382706, 278.2729519294619, 139.59979750684667, 343.77622314960195, 562.5141934458893, 418.71012198378327, 275.81445508196714, 165.67724427328903, 256.07915896074223, 404.2099502585004, 1211.7776776727549, 264.5496714967665, 264.43060444251074, 381.1937527299294, 560.6503461718253, 584.7443025444278, 628.8657695466159, 442.9521399694339, 290.48379086866436, 347.0780457639718, 352.8084105731295, 558.1156612635799, 1314.116968691846, 455.3077752609573, 622.4500627325857, 533.5290126102766, 1093.2292114088607, 674.5966621675476, 1905.8334050198216, 341.68126373429175, 2274.3554177318124, 862.2728009891372, 844.6624694981056, 743.0009537778733, 439.4651099352129, 755.0048175303813, 1114.9601014251853, 892.6420546890785, 1612.3100192993795, 1302.336140414534, 5322.307391203287, 1322.3952445335278, 1699.7698428038914, 996.3596543965069, 1157.8192469415833, 969.1247912217436, 2462.3624795168876, 912.7265307708831, 985.3424686952242, 1347.6099585943894, 1474.2661789173549, 975.2000033901406, 1312.5740220130347, 2853.5661719795717, 776.0245889137956, 1188.3313125688924, 5315.925122366234, 1763.2236550730322, 4396.918366172485, 841.6375151052052, 1059.3596617928622, 1447.4317965124394, 2658.601227158316, 1384.3039086737447, 2263.563982186889, 954.4814774466388, 1386.1344599192, 1661.6188303417618, 1757.0484655454845, 2825.649863900181, 2415.455163332774, 2125.059427656339, 5225.557886018754, 4287.379598116369, 3705.5375783829254, 1142.1442031505132, 3087.060925557079, 3191.4634366515215, 1402.2551314731913, 1920.9867901794366, 2125.0159301168947, 4905.686167460273, 4990.470565283833, 1666.270878732227, 6186.816471609226, 3241.667645634051, 2627.1589044675147, 3483.627869472688, 1900.8442879990805, 2892.59095606554, 1299.4470893937776, 2605.851598964912, 1666.5536938416599, 2195.1096623500334, 2000.718532493847, 3695.1547740559527, 2662.6810385538165, 2942.8479664196766, 2876.899679309863, 1763.4991573143777, 1764.3709448420088, 6455.797862058677, 1178.1636592818195, 2618.435219000871, 12091.766087794844, 15356.833787888418, 2439.0510393770037, 1830.548188491588, 3019.5432703218744, 5196.377035984146, 3272.50679563638, 2118.9891572666966, 2691.626038218921, 1829.228683678622, 4856.15685028693, 3519.1464542636772, 2163.2692694649168, 1857.623498905458, 5273.09486805827, 4557.360305326861, 3528.313574939722, 3913.9801051859504, 3101.5385831361777, 6112.202563654909, 1876.91896265838, 3076.102336435853, 5194.626568029648, 3051.0761554344094, 2041.7099880722703, 3866.277816346121, 2604.4553892959752, 3798.2276830272945, 1876.1642013012204, 1684.3860369089282, 2726.869859389735, 2470.571117544826, 1716.1093199939053, 1811.4024073164546, 8706.753079310165, 2727.4420311809286, 5219.6882171564575, 2776.694173598431, 5010.525551935199, 4637.881280463375, 2365.740512829049, 4179.631096277211, 2951.9599284520336, 1807.535132976271, 4077.8377889067838, 2975.7509182259773, 1839.558363374745, 4793.1539855908195, 2801.6945858062663, 3667.5036417991187, 5759.237365184537, 3247.3248790334965, 3107.2001368629453, 5432.144535152442, 2005.9323926499617, 1982.0432771207154, 1966.957099305231, 5562.0554322082735, 4292.597392752695, 2507.5574047941445, 4011.215094037226, 6422.279220597602, 5950.795505008199, 12700.172278531223, 3548.7558094775845, 11698.09961919219, 7383.119887521265, 4946.892670279165, 5093.666190578575, 4994.687193421734, 12953.149187502384, 2752.1118802992128, 4837.642870800969, 12759.492803026576, 3887.5856620334175, 2270.2775279214475, 7260.704658215473, 2717.847714831733, 3888.4631405623554, 3652.053578384985, 4922.483089944548, 4383.804548987537, 10467.731452373622, 4216.898034136636, 7667.9551119393545, 2885.5694940862372, 4288.423358391741, 4661.393782435896, 9108.87149241429, 5796.57232632338, 8078.895006741713, 4278.548308471706, 2437.157323524382, 15599.08397316804, 4879.896020557377, 4485.3537483370155, 8983.166242297728, 12272.302325571518, 10972.350246419463, 6029.880806831104, 8452.037523345438, 7707.95174233939, 9515.704855431703, 4037.5667931989183, 3352.6872962874645, 3216.6086648432884, 19798.33849477392, 5298.815034510996, 3611.3623708948917, 3014.9822478303963, 4349.647935528171, 5355.412257905248, 4002.784819123494, 4248.31884676129, 5380.64742497499, 8713.4388707971, 13082.22928532457, 5441.437253496015, 4881.522608698897, 3650.7835609888216, 3583.2746663967073, 6199.884250231976, 4669.912352797678, 8911.666337925803, 7895.558596286929, 4216.535180933551, 9753.62839987333, 3445.5222904258962, 4257.855211400406, 4421.076576731204, 6178.304578073682, 5991.974200243104, 6499.308394332882, 6423.512257978685, 11496.285135039467, 4284.093839711954, 4016.3552506443452, 7862.843324376647, 4582.217160133619, 4732.145881556744, 7280.190544066809, 8862.116291962395, 6627.310467323656, 7265.022334479243, 4533.944453234343, 5765.637363603443, 3424.788493932959, 7922.9038642117475, 3731.282278809556, 4623.871808059819, 14909.749354851854, 4216.701541761104, 3715.5523905885084, 9561.596823415244, 8719.269650598675, 10123.833657670342, 14110.504059672458, 3613.656997436298, 7061.951896327117, 11055.535622458865, 5232.241068300996, 7441.407596464399, 5401.35415642573, 8743.584483424349, 4001.0956098995243, 3645.7747000311524, 6878.211397149399, 3122.124760084162, 3079.530446585123, 6878.292253982958, 7883.463846284657, 5861.580072880716, 11987.48643130218, 6501.215887314035, 10901.5493117316, 9877.148976136936, 6942.113084708583, 6816.6771813145515, 4818.836880398204, 12994.003240631548, 13361.465830462623, 9850.52639958199, 9785.111267595248, 3984.5178097825064, 15195.808865479641, 9044.602204990098, 8262.996098703565, 14689.686188257447, 10993.09761270102, 10032.784103899377, 7373.886503960609, 14477.547525322901, 8669.715876686501, 10889.41133427059, 7026.117760918329, 4151.686750431327, 13800.244917357018, 5842.3693225986635, 4265.3207495947745, 9015.170647895902, 15206.790977621846, 14660.067115053009, 8397.454520306708, 13577.167850699487, 6927.273305862385, 4837.166401138839, 5322.041896096197, 4500.15740538705, 10170.391133216732, 6750.744785625146, 3474.948977144913, 10542.059618765163, 12215.225030439566, 5944.748178138772, 5999.64095010917, 8395.099849250073, 6890.810999926723, 7390.916654739246, 16876.026340023378, 6752.678455585064, 6080.3895587554, 24510.867299984428, 12922.851232558729, 4990.782965343726, 4813.996464974622, 12278.06663702278, 7750.932792116305, 6098.182786227462, 13402.390607725612, 6191.875815163196, 9062.415958316993, 9716.743599708627, 5703.062068415681, 5423.7468218215, 13092.104748561616, 9258.413168258254, 6754.181376855064, 4401.6490589608875, 18970.90265235554, 7014.452330616647, 5556.143620366198, 4282.774708467933, 8006.866704548736, 5971.320098666675, 7279.245944118712, 9011.01824340023, 3930.531846482662, 4981.189995496397, 6998.371561725636, 19452.188007613306, 12460.525225802505, 12495.467921829562, 4689.997736729616, 4422.727986365051, 5475.197674426574, 10270.556288579795, 9160.656086987165, 6401.850416726929, 5014.208450321679, 12735.052179682652, 5370.470636283056, 7022.214531980537, 6314.164658129551, 9081.49587410859, 7327.310566221712, 6696.165318922721, 6324.0985351671525, 5442.2241295742615, 9488.601667218541, 5658.405373159583, 9078.568852566883, 5092.142443930624, 20395.124694418788, 18917.54339115634, 4601.73710473891, 19511.428590159125, 4945.381782413991, 4360.12348761807, 5027.267468764086, 9953.411141602632, 5242.490044538596, 10253.158874511886, 8474.153179711846, 6088.057411284977, 5410.369102999105, 7903.630932813323, 11276.247633688452, 23251.17677156602, 5157.44240159329, 7255.903875707877, 4572.818082841097, 22330.042504840192, 16289.66990080965, 11468.645102853498, 9412.755799456227, 5051.913480478223, 10898.622301287229, 6266.792938300559, 12312.933299223027, 5964.026248488407, 6118.363854455137, 14619.07714107754, 5721.4898175435255, 16459.764770526523, 11530.045964603516, 11851.624851300789, 5969.309226796388, 10781.037724875288, 11909.94898455062, 13491.531947745318, 7756.534127899685, 18644.34181834091, 19758.574478663388, 7126.949286839096, 5909.6022656145, 18477.508070811593, 5160.243377774785, 11863.274239072147, 14331.16205847936, 7019.838159076854, 15506.765099525124, 9053.004351270662, 8475.380712161104, 18603.202601516143, 7894.74240968483, 21858.271759521478, 13694.144270547473, 18205.142167703838, 13773.513883099087, 14433.747496281652, 6049.266472456281, 14298.921237225526, 12756.45661674671, 7268.849594273757, 7330.396149918702, 9212.680436279847, 14029.982535498064, 6800.60443996181, 11849.08767625834, 5933.08094944074, 11161.227688742198, 10912.01018497067, 17306.358510850816, 13883.000654987436, 6426.2574213387925, 20162.264733761185, 14124.005569030098, 7342.937025329811, 7678.123055402251, 8799.57468332615, 10890.827639049026, 12326.826390048778, 9878.300095508928, 16014.587522088343, 8770.679060166833, 20490.98736044661, 7587.514650318455]\n",
            "[35.30294611463299, 80.83468579859684, 73.38462398384696, 91.52381457270491, 491.99988818121807, 115.16268233664734, 98.55490575101987, 138.01239873654163, 244.86125641696214, 587.2091910174727, 138.73329607297188, 778.5204307734817, 391.21278763786, 149.39358249699998, 646.5176742397973, 343.5137740235786, 3767.844772798173, 335.4976430821964, 1346.9087576168347, 3556.725977855181, 462.5122008061565, 1451.9262687636487, 1407.2097283480766, 423.4787351431859, 354.9427122733285, 1744.4181055376034, 1971.5408133664694, 543.3314552374737, 471.3769187334404, 656.391237984975, 819.8619924152409, 436.94013372268034, 784.6952709893778, 786.479272475779, 540.2738208476861, 10966.178453792076, 1330.7144769914605, 1083.1572202212808, 998.0986768818238, 2059.4111145888255, 1367.8616668695906, 3687.0832300949005, 2546.539796084422, 2372.2977718204825, 1058.3406156444871, 726.5614208027362, 2893.8641195878736, 635.9822102970637, 1367.1892875331862, 779.3107783105604, 813.229345845519, 1152.8733631450577, 1736.7921200065434, 788.4579401870685, 2390.651278047338, 3409.8274950087866, 3052.782808283738, 965.2425862193286, 1005.6525498210578, 1563.0306299098518, 1304.3294908958333, 2451.8470465856917, 6081.176424527828, 2058.8191756287265, 1228.6930068000395, 2697.031633671882, 1644.7405129319957, 4597.141564054625, 1213.617238337954, 4212.284877186831, 809.8040916566551, 6093.827160481732, 1255.2380747934176, 3702.599327161032, 2105.930044719757, 1000.4528410817469, 2585.142568932113, 1252.6794031842871, 11997.194757039202, 1711.458968798906, 2089.8801436628837, 3152.2812108658773, 2432.2006622177532, 2751.0142486530126, 13237.108461737958, 2917.7362550622947, 2635.9129113816853, 7158.618231451018, 2009.2557050076612, 2862.3471853121914, 3256.674543932579, 3891.5474425402253, 1353.0163999661559, 2471.8677502156356, 6078.7912830625855, 2699.1005350427095, 1690.5480419814016, 2475.095007796074, 3012.7659556792205, 7521.18548953609, 3501.365199495465, 3016.9606676857525, 6695.287942910477, 6057.233299233141, 4012.304756341632, 4943.331474932827, 24148.184078120128, 1880.902708878075, 2218.8543204494613, 6259.306246950156, 1438.2095162978737, 5170.781508143021, 2324.4146001177583, 2316.470165896161, 1533.3461750135898, 2591.4248871151726, 2290.7142007766956, 7475.925872331833, 2235.7227902749237, 3940.6867064536727, 7428.471134594089, 5562.65735306753, 2299.8238701118257, 24188.635376298866, 3967.330506952176, 1780.6990222929496, 5218.7057218505415, 5795.706763662391, 2882.692346591529, 1956.2555779319978, 2942.3931949506127, 1700.7063777010353, 5763.166440681875, 2798.4051894800987, 8914.273689457143, 7570.011828100889, 1822.3342941020135, 21917.422450621063, 3593.963205390455, 5873.735433143921, 2759.1060832555595, 4851.822684528968, 18908.40774664219, 1755.8168615226327, 6968.126863154394, 4779.705399662409, 5044.4698843919095, 2065.6583680213867, 1758.4108745842982, 4888.6544054358355, 7951.596544335993, 3261.943592627888, 13837.975376740209, 3116.0198450854527, 3674.603104160357, 6116.430493176543, 4424.755027699964, 2242.0118061150374, 2310.050377801015, 2421.9721653838214, 2916.7423578982007, 8775.962000040397, 4384.702399672042, 8940.806954737003, 1869.3445026972358, 3131.9913967538823, 3293.5160853883312, 3875.245011117246, 6381.284674705869, 3752.648997584419, 7056.294899199466, 2460.3745938801458, 4282.470479705142, 2067.507322625155, 5504.464976588575, 2970.73156258855, 5435.538896547742, 6237.386346530167, 2417.9635642402104, 2326.879365173322, 3091.788099865848, 2401.112587992855, 21701.1356068421, 2407.828240120123, 3597.601000027766, 2718.7318689309996, 5775.745080361745, 2355.0471062327474, 2250.819037645002, 5311.474389680134, 4322.13917175646, 3642.424603398964, 4244.250544855338, 11806.333563228733, 2617.0933496339617, 3754.362515342806, 3814.555377154629, 4169.866090410288, 7852.198478694153, 11632.080819440856, 3869.0199889484215, 21678.042105934874, 5007.5893255934625, 6144.971173752454, 3595.130564155977, 2675.7922379301144, 10606.03801897343, 5825.716175231721, 19979.916139589553, 3037.286618289332, 6639.9207652027835, 4135.368338948971, 2433.225346531266, 7044.584090299381, 4353.924934802967, 10358.138924389186, 12448.186051425253, 3982.8617539824204, 2452.1988028328437, 2603.3224942433776, 5468.8672358971835, 3245.685650232846, 6896.396510454393, 4618.307818005858, 4014.5891060816675, 4197.823402661293, 3383.102037006839, 2631.8545720139023, 7740.798242371834, 7858.904830283685, 4410.004553529109, 3661.26801180443, 6382.645248449046, 15797.273573722103, 4136.087872173649, 21916.345556824144, 13193.257780726748, 6758.543736387991, 9305.747416496744, 4337.7404796840265, 19530.30767631825, 6379.173475316722, 9237.112895289667, 10479.041851154347, 3539.2219486826007, 14061.192910809565, 14668.644246130127, 8226.682918420658, 4271.530350706686, 4094.8407167471332, 4044.2386779024805, 22217.524977558187, 3451.9430597959004, 4675.6283175383805, 6968.565607699917, 5086.8606485175915, 6371.310226382494, 4514.97839943672, 3791.7430689960947, 21110.82086009853, 18052.884746723335, 3174.034670544512, 7890.346989652262, 4376.958951774609, 14964.97270778084, 7663.3843880177965, 6537.723691106904, 8071.685036809027, 4373.065568933333, 15757.420474902596, 7981.289927134212, 9082.742437713849, 8034.615055925787, 5064.498527583675, 8916.124989809106, 4468.504859021672, 5325.844273839351, 6567.615074545189, 6225.1737064763865, 3517.9490347830474, 19735.336586144207, 9877.862949125438, 6189.962236450925, 8381.605985020355, 10538.9336726948, 10662.633366082462, 16894.226239437216, 5056.882151399933, 9097.912422844423, 5916.84915485006, 7071.566282708697, 6380.45658877567, 6169.156610278703, 13836.847688069884, 5768.6642144111, 15609.216352947846, 4387.197726406629, 16819.595993066283, 6940.304940208541, 9903.938237254086, 5905.483545969596, 5290.11791238124, 8348.0800151505, 10301.131928217068, 17158.499817177457, 18521.443669750894, 6179.684628964726, 8435.881253593778, 4136.8652845382785, 6886.715997107363, 5924.643196574133, 5616.218266714207, 9881.207082897849, 9362.924891360875, 4077.0664424312254, 8426.231531877056, 7472.868337688622, 11668.015074220162, 10047.681284108321, 14864.74765610181, 11028.751391545513, 18096.356098330318, 7661.032757608385, 11401.385418796499, 8281.456811585245, 10781.593031062184, 11486.623833805666, 18870.835863660683, 15915.166511768417, 10790.871068775612, 9233.996948006046, 9283.641890202289, 9228.220370218098, 12649.719673683298, 4838.855875000054, 4309.362067427001, 6292.028184800195, 4985.280919263652, 19860.679633434742, 10664.15652607116, 19365.93459665251, 5209.1492811865055, 12356.355309052984, 8160.714338319856, 16985.50210657485, 15717.569901659432, 11490.249521582457, 4396.637256149841, 9348.34582059601, 11052.021945952283, 9603.219163158963, 7518.055546802736, 23145.06205807471, 21004.70938979157, 5849.169178423612, 8457.98846486696, 7928.391072776614, 8781.744300725195, 12370.857676424741, 7168.2226472979055, 9357.213318841637, 7896.044925728179, 4627.742846383013, 11033.550643401573, 8747.008276994771, 6917.140372853033, 5864.51842043602, 12352.590464442834, 5569.4718293866645, 14547.089337153862, 8300.407463229878, 9252.033087506743, 8087.543797445714, 15028.257680372692, 4177.97141824422, 10291.26529602916, 5003.893593049932, 7329.346464402288, 4973.711475041888, 12602.963801440652, 23519.99210698353, 6738.562671696381, 17480.491923221933, 5493.686277713099, 12136.974876411974, 6019.718822409455, 11578.062116679306, 9780.217541933373, 6611.249034673376, 17745.46187794755, 7914.032148054293, 21919.20427700032, 6125.327258817058, 21826.01628634058, 10982.335275071655, 21439.491284598305, 8919.246907581548, 7932.000429586613, 7536.4343893942505, 10199.587605421877, 14457.343456902661, 7593.859836003713, 14046.000096278245, 10945.447323192991, 10032.502826225336, 7306.02687458298, 8274.423078994909, 22038.288885762897, 11348.24811463807, 18847.786282519108, 9897.305665965569, 11088.056181997505, 6501.509672190638, 7634.774347315727, 9424.345534766295, 11011.44397768967, 12251.473028546772, 9491.221529852612, 13492.413713720442, 21477.009657676695, 7640.522660751869, 12631.485486903031, 8134.360013719101, 14604.962395213457, 6637.28326090103, 21875.155234833128, 10002.17307687221, 12352.906446201421, 9503.920827291786, 11942.766276418359, 8282.280218146445, 6038.418925717217, 5578.601209830005, 21413.987453106718, 12302.28852570858, 13696.935081919928, 14047.153725110948, 12435.772171789047, 15771.578140579299, 17757.82076166071, 5910.402228705899, 18225.98323696989, 10893.770326997126, 12928.455949645948, 13037.411252158952, 16583.883410207214, 7252.727581746051, 9543.730528517079, 12373.055759245504, 15040.539663306125, 16162.201595315491, 14105.125794372314, 6081.333856687013, 6072.930376207105, 10695.025742995254, 12877.276529473682, 9515.18471245203, 13290.652604407045, 16733.798554042, 16229.067540066519, 23174.617250548217, 18527.540740083394, 14204.760069303646, 16064.856546077108, 12613.976848204356, 6907.987911246025, 12347.546691441637, 17982.314223936635, 12663.436020804795, 15878.569385330768, 13536.245085461309, 16666.560389279806, 7618.788599174426, 10228.110524370839, 8875.196232753548, 6652.898780983368, 11065.357658395013, 12546.833305744294, 12147.713083991912, 18144.84986650721, 9735.65638386004, 24292.074516529654, 6362.956599860277]\n"
          ]
        },
        {
          "output_type": "display_data",
          "data": {
            "text/plain": [
              "<Figure size 432x288 with 1 Axes>"
            ],
            "image/png": "[encoded data removed]"
          },
          "metadata": {}
        },
        {
          "output_type": "display_data",
          "data": {
            "text/plain": [
              "<Figure size 432x288 with 1 Axes>"
            ],
            "image/png": "[encoded data removed]"
          },
          "metadata": {}
        },
        {
          "output_type": "stream",
          "name": "stderr",
          "text": [
            "<ipython-input-193-50a121d72201>:10: UserWarning: Implicit dimension choice for softmax has been deprecated. Change the call to include dim=X as an argument.\n",
            "  probs = F.softmax(probs)\n"
          ]
        },
        {
          "output_type": "display_data",
          "data": {
            "text/plain": [
              "<Figure size 432x288 with 2 Axes>"
            ],
            "image/png": "[encoded data removed]"
          },
          "metadata": {}
        },
        {
          "output_type": "stream",
          "name": "stdout",
          "text": [
            "Test Accuracy: 0.5038022813688213\n"
          ]
        }
      ],
      "source": [
        "main(args)"
      ]
    }
  ],
  "metadata": {
    "kernelspec": {
      "display_name": "Python 3",
      "language": "python",
      "name": "python3"
    },
    "language_info": {
      "name": "python",
      "version": "3.9.12"
    },
    "orig_nbformat": 4,
    "vscode": {
      "interpreter": {
        "hash": "b0fa6594d8f4cbf19f97940f81e996739fb7646882a419484c72d19e05852a7e"
      }
    },
    "colab": {
      "provenance": []
    },
    "accelerator": "GPU",
    "gpuClass": "standard"
  },
  "nbformat": 4,
  "nbformat_minor": 0
}